{
  "nbformat": 4,
  "nbformat_minor": 0,
  "metadata": {
    "colab": {
      "name": "Contest_correct.ipynb",
      "provenance": [],
      "private_outputs": true,
      "collapsed_sections": [],
      "machine_shape": "hm",
      "include_colab_link": true
    },
    "kernelspec": {
      "name": "python3",
      "display_name": "Python 3"
    },
    "accelerator": "GPU"
  },
  "cells": [
    {
      "cell_type": "markdown",
      "metadata": {
        "id": "view-in-github",
        "colab_type": "text"
      },
      "source": [
        "<a href=\"https://colab.research.google.com/github/Jack0karev/konoha/blob/master/Contest_correct.ipynb\" target=\"_parent\"><img src=\"https://colab.research.google.com/assets/colab-badge.svg\" alt=\"Open In Colab\"/></a>"
      ]
    },
    {
      "cell_type": "code",
      "metadata": {
        "id": "iPmbhoGJnFmF",
        "colab_type": "code",
        "colab": {}
      },
      "source": [
        "!wget https://www.dropbox.com/s/2oz8zxrm05tsx3u/train.json.zip\n",
        "!wget https://www.dropbox.com/s/07dgpnsit9a1749/items.json.zip\n",
        "!wget https://www.dropbox.com/s/k16x0iwggvzp6j2/random_benchmark.csv.zip\n",
        "!unzip train.json.zip\n",
        "!unzip items.json.zip\n",
        "!unzip random_benchmark.csv.zip"
      ],
      "execution_count": 0,
      "outputs": []
    },
    {
      "cell_type": "code",
      "metadata": {
        "id": "XTWXVJY_EmOz",
        "colab_type": "code",
        "colab": {}
      },
      "source": [
        "!ls"
      ],
      "execution_count": 0,
      "outputs": []
    },
    {
      "cell_type": "markdown",
      "metadata": {
        "id": "Gk2Ie5NSkVc5",
        "colab_type": "text"
      },
      "source": [
        "# Загрузка данных"
      ]
    },
    {
      "cell_type": "code",
      "metadata": {
        "id": "pwvqlTW9Gtoa",
        "colab_type": "code",
        "colab": {}
      },
      "source": [
        "import pandas as pd\n",
        "import numpy as np\n",
        "import json\n",
        "\n",
        "random_benchmark = pd.read_csv('random_benchmark.csv')\n",
        "\n",
        "from tqdm.auto import tqdm\n",
        "items_list=[]\n",
        "with tqdm(open('./items.json')) as inf:\n",
        "    for line in inf:\n",
        "        item=json.loads(line)\n",
        "        if isinstance(item['image'], float):\n",
        "            item['image']=[0 for _ in range(96)]\n",
        "            \n",
        "        item['image']=np.array(item['image'])\n",
        "        items_list.append(item)\n",
        "\n",
        "items=pd.DataFrame(items_list).set_index('itemId')\n",
        "\n",
        "        "
      ],
      "execution_count": 0,
      "outputs": []
    },
    {
      "cell_type": "code",
      "metadata": {
        "id": "giwp1h6_ePWA",
        "colab_type": "code",
        "colab": {}
      },
      "source": [
        "%%time\n",
        "rows = []\n",
        "columns = []\n",
        "values = []\n",
        "counter = 0\n",
        "with open('train.json') as f:\n",
        "    for line in f:\n",
        "        counter += 1\n",
        "        item = json.loads(line)\n",
        "        for key in list(item['trainRatings'].keys()):\n",
        "          rows.append(item['userId'])\n",
        "          columns.append(int(key))\n",
        "          values.append(item['trainRatings'][key])\n"
      ],
      "execution_count": 0,
      "outputs": []
    },
    {
      "cell_type": "markdown",
      "metadata": {
        "id": "l7UARqp8oUt-",
        "colab_type": "text"
      },
      "source": [
        "# Item embeddings\n"
      ]
    },
    {
      "cell_type": "code",
      "metadata": {
        "id": "RxkU-J6xobpQ",
        "colab_type": "code",
        "colab": {}
      },
      "source": [
        "item_ids = []\n",
        "titles = [] \n",
        "with tqdm(open(\"items.json\")) as f:\n",
        "    for i, line in enumerate(f):\n",
        "        item = json.loads(line)\n",
        "        item_ids.append(item['itemId'])\n",
        "        titles.append(item['title'])\n",
        "        if item.get('image') is None:\n",
        "            item['image'] = [0 for _ in range(96)]"
      ],
      "execution_count": 0,
      "outputs": []
    },
    {
      "cell_type": "code",
      "metadata": {
        "id": "Zx8Qff8NobcD",
        "colab_type": "code",
        "colab": {}
      },
      "source": [
        "from sklearn.feature_extraction.text import TfidfVectorizer\n",
        "vectorizer = TfidfVectorizer(lowercase=False, min_df = 10, max_df = 0.01)\n",
        "tfidf_titles = vectorizer.fit_transform(titles)"
      ],
      "execution_count": 0,
      "outputs": []
    },
    {
      "cell_type": "markdown",
      "metadata": {
        "id": "J5jUNcqbkfe1",
        "colab_type": "text"
      },
      "source": [
        "# Топ контент (scoare: 0.10421)"
      ]
    },
    {
      "cell_type": "code",
      "metadata": {
        "id": "--RUYTksJ16J",
        "colab_type": "code",
        "colab": {}
      },
      "source": [
        "ranked_dict = {}\n",
        "for column, value in zip(columns, values):\n",
        "   if value != 0: \n",
        "    if str(column) not in ranked_dict:\n",
        "      ranked_dict[str(column)] = value\n",
        "    else:\n",
        "      ranked_dict[str(column)] += value\n"
      ],
      "execution_count": 0,
      "outputs": []
    },
    {
      "cell_type": "code",
      "metadata": {
        "id": "xJ-3ClP3QuBR",
        "colab_type": "code",
        "colab": {}
      },
      "source": [
        "def function(x):\n",
        "  if str(x.itemId) not in ranked_dict:\n",
        "    return 0\n",
        "  else:\n",
        "    return ranked_dict[str(x.itemId)]\n",
        "random_benchmark['ratings'] = random_benchmark.apply(function ,axis=1)  \n",
        "random_benchmark.head()"
      ],
      "execution_count": 0,
      "outputs": []
    },
    {
      "cell_type": "code",
      "metadata": {
        "id": "IM503RVCMN-N",
        "colab_type": "code",
        "colab": {}
      },
      "source": [
        "random_benchmark.sort_values(['userId','ratings'], ascending=[True,False])\n"
      ],
      "execution_count": 0,
      "outputs": []
    },
    {
      "cell_type": "code",
      "metadata": {
        "id": "IjYnDWZMZWJ0",
        "colab_type": "code",
        "colab": {}
      },
      "source": [
        "df = random_benchmark.sort_values(['userId','ratings'], ascending=[True,False])\n",
        "total = df[['userId', 'itemId']]\n"
      ],
      "execution_count": 0,
      "outputs": []
    },
    {
      "cell_type": "code",
      "metadata": {
        "id": "7Znq5KGDN0sA",
        "colab_type": "code",
        "colab": {}
      },
      "source": [
        "total = total.reset_index()[['userId','itemId']]"
      ],
      "execution_count": 0,
      "outputs": []
    },
    {
      "cell_type": "code",
      "metadata": {
        "id": "h2c9T_glJSyh",
        "colab_type": "code",
        "colab": {}
      },
      "source": [
        "from google.colab import files\n",
        "total.to_csv('top_content.csv', index=False) \n",
        "files.download('top_content.csv')"
      ],
      "execution_count": 0,
      "outputs": []
    },
    {
      "cell_type": "markdown",
      "metadata": {
        "id": "PjCd740buCnb",
        "colab_type": "text"
      },
      "source": [
        "# Коллаборативная фильтрация крашится :) (Даже код не сохранил, но он такой же как с семинара)\n",
        "# Можно не запускать"
      ]
    },
    {
      "cell_type": "code",
      "metadata": {
        "id": "dns1r4_xOhz3",
        "colab_type": "code",
        "colab": {}
      },
      "source": [
        "ratings_m = ratings.values"
      ],
      "execution_count": 0,
      "outputs": []
    },
    {
      "cell_type": "code",
      "metadata": {
        "id": "oCMpNIc8Ohvm",
        "colab_type": "code",
        "colab": {}
      },
      "source": [
        "\n",
        "similarity_users = np.zeros((len(ratings_m), len(ratings_m)))\n",
        "\n",
        "for i in tqdm_notebook(range(len(ratings_m)-1)):\n",
        "    for j in range(i+1, len(ratings_m)):\n",
        "        \n",
        "        mask_uv = (ratings_m[i] != 0) & (ratings_m[j] != 0)\n",
        "        \n",
        "        if np.sum(mask_uv) == 0:\n",
        "            continue\n",
        "            \n",
        "        # get nonzero elements\n",
        "        ratings_v = ratings_m[i, mask_uv]\n",
        "        ratings_u = ratings_m[j, mask_uv]\n",
        "        \n",
        "        if len(np.unique(ratings_v)) < 2 or len(np.unique(ratings_u)) < 2:\n",
        "            continue\n",
        "        similarity_users[i,j] = np.corrcoef(ratings_v, ratings_u)[0, 1]\n",
        "        similarity_users[j,i] = similarity_users[i,j]"
      ],
      "execution_count": 0,
      "outputs": []
    },
    {
      "cell_type": "code",
      "metadata": {
        "id": "stTzSqQKOhqc",
        "colab_type": "code",
        "colab": {}
      },
      "source": [
        "prediction_user_based = []\n",
        "for i in tqdm_notebook(range(len(similarity_users))):\n",
        "    users_sim = similarity_users[i] > 0\n",
        "    if len(users_sim) == 0:\n",
        "        prediction_user_based.append([])\n",
        "    else:\n",
        "        tmp_recommend = np.argsort(ratings_m[users_sim].sum(axis=0))[::-1]\n",
        "        tmp_recommend = ratings.columns[tmp_recommend]\n",
        "        recommend = np.array(tmp_recommend)[~np.in1d(tmp_recommend, interactions.iloc[i])][:10]\n",
        "        prediction_user_based.append(list(recommend))\n",
        "interactions['prediction_user_based'] = prediction_user_based"
      ],
      "execution_count": 0,
      "outputs": []
    },
    {
      "cell_type": "markdown",
      "metadata": {
        "id": "gs87CBdQuaWS",
        "colab_type": "text"
      },
      "source": [
        "# Безуспешная попытка использовать KNN :) (Слишком долго делается один предикт)"
      ]
    },
    {
      "cell_type": "code",
      "metadata": {
        "id": "dedN78JUrlTT",
        "colab_type": "code",
        "colab": {}
      },
      "source": [
        "items_list=[]\n",
        "with tqdm(open('items.json')) as inf:\n",
        "    for line in inf:\n",
        "        item=json.loads(line)\n",
        "        if isinstance(item['image'], float):\n",
        "            item['image']=[0 for _ in range(96)]\n",
        "            \n",
        "        item['image']=np.array(item['image'])\n",
        "        items_list.append(item)\n",
        "\n",
        "items=pd.DataFrame(items_list)"
      ],
      "execution_count": 0,
      "outputs": []
    },
    {
      "cell_type": "code",
      "metadata": {
        "id": "qnf-KTrmsIM3",
        "colab_type": "code",
        "colab": {}
      },
      "source": [
        "items.head()"
      ],
      "execution_count": 0,
      "outputs": []
    },
    {
      "cell_type": "code",
      "metadata": {
        "id": "LbMkF42v-PIs",
        "colab_type": "code",
        "colab": {}
      },
      "source": [
        "item_to_idx = {\n",
        "    item: i for i, item in \n",
        "    enumerate(list(items.set_index('itemId').loc[items.itemId].title))}"
      ],
      "execution_count": 0,
      "outputs": []
    },
    {
      "cell_type": "code",
      "metadata": {
        "id": "TvcBkQXSETPT",
        "colab_type": "code",
        "colab": {}
      },
      "source": [
        "!pip install fuzzywuzzy\n",
        "from fuzzywuzzy import fuzz\n"
      ],
      "execution_count": 0,
      "outputs": []
    },
    {
      "cell_type": "code",
      "metadata": {
        "id": "GsZrbmT91bHq",
        "colab_type": "code",
        "colab": {}
      },
      "source": [
        "from sklearn.neighbors import NearestNeighbors\n",
        "model_knn = NearestNeighbors(metric='cosine', algorithm='brute', n_neighbors=20, n_jobs=-1)\n",
        "# fit\n",
        "model_knn.fit(tfidf_titles)"
      ],
      "execution_count": 0,
      "outputs": []
    },
    {
      "cell_type": "code",
      "metadata": {
        "id": "a-cNqSOh73pl",
        "colab_type": "code",
        "colab": {}
      },
      "source": [
        "def fuzzy_matching(mapper, fav_title, verbose=True):\n",
        "    match_tuple = []\n",
        "    # get match\n",
        "    for title, idx in mapper.items():\n",
        "        ratio = fuzz.ratio(title.lower(), fav_title.lower())\n",
        "        if ratio >= 60:\n",
        "            match_tuple.append((title, idx, ratio))\n",
        "    # sort\n",
        "    match_tuple = sorted(match_tuple, key=lambda x: x[2])[::-1]\n",
        "    if not match_tuple:\n",
        "        print('Oops! No match is found')\n",
        "        return\n",
        "    if verbose:\n",
        "        print('Found possible matches in our database: {0}\\n'.format([x[0] for x in match_tuple]))\n",
        "    return match_tuple[0][1]"
      ],
      "execution_count": 0,
      "outputs": []
    },
    {
      "cell_type": "code",
      "metadata": {
        "id": "uKWKUe3U772q",
        "colab_type": "code",
        "colab": {}
      },
      "source": [
        "def make_recommendation(model_knn, data, mapper, fav_title, n_recommendations):\n",
        "    # fit\n",
        "    model_knn.fit(data)\n",
        "    # get input movie index\n",
        "    print('You have input title:', fav_title)\n",
        "    idx = fuzzy_matching(mapper, fav_title, verbose=True)\n",
        "    # inference\n",
        "    print('Recommendation system start to make inference')\n",
        "    print('......\\n')\n",
        "    distances, indices = model_knn.kneighbors(data[idx], n_neighbors=n_recommendations+1)\n",
        "    # get list of raw idx of recommendations\n",
        "    raw_recommends = \\\n",
        "        sorted(list(zip(indices.squeeze().tolist(), distances.squeeze().tolist())), key=lambda x: x[1])[:0:-1]\n",
        "    # get reverse mapper\n",
        "    reverse_mapper = {v: k for k, v in mapper.items()}\n",
        "    # print recommendations\n",
        "    print('Recommendations for {}:'.format(fav_title))\n",
        "    for i, (idx, dist) in enumerate(raw_recommends):\n",
        "        print('{0}: {1}, with distance of {2}'.format(i+1, reverse_mapper[idx], dist))"
      ],
      "execution_count": 0,
      "outputs": []
    },
    {
      "cell_type": "code",
      "metadata": {
        "id": "yF-1Ncfz-xt4",
        "colab_type": "code",
        "colab": {}
      },
      "source": [
        "my_favorite = items.title[0]\n",
        "\n",
        "make_recommendation(\n",
        "    model_knn=model_knn,\n",
        "    data=tfidf_titles,\n",
        "    fav_title=my_favorite,\n",
        "    mapper=item_to_idx,\n",
        "    n_recommendations=10)\n",
        "\n"
      ],
      "execution_count": 0,
      "outputs": []
    },
    {
      "cell_type": "markdown",
      "metadata": {
        "id": "jFFFhzlehjoX",
        "colab_type": "text"
      },
      "source": [
        "# LightFM (score: 0.12750)"
      ]
    },
    {
      "cell_type": "code",
      "metadata": {
        "id": "bZAZNQIVr5hO",
        "colab_type": "code",
        "colab": {}
      },
      "source": [
        "from scipy.sparse import coo_matrix\n",
        "row_item = []\n",
        "column_item = []\n",
        "value_item = []\n",
        "for i in range(items.shape[0]):\n",
        "  row_item.extend([i] * 96)\n",
        "  column_item.extend(list(range(96)))\n",
        "  for value in items.image[i]:\n",
        "    value_item.append(value)\n",
        "item_sparse = coo_matrix((value_item, (row_item, column_item)), shape=(items.shape[0], 96))"
      ],
      "execution_count": 0,
      "outputs": []
    },
    {
      "cell_type": "code",
      "metadata": {
        "id": "JPAnt9blUV55",
        "colab_type": "code",
        "colab": {}
      },
      "source": [
        "user_ids = np.array(rows)\n",
        "item_ids = np.array(columns)\n",
        "ratings = np.array(values)\n",
        "from scipy.sparse import coo_matrix\n",
        "ratings_sparse = coo_matrix((ratings, (user_ids, item_ids)), shape=(counter, items.shape[0]))"
      ],
      "execution_count": 0,
      "outputs": []
    },
    {
      "cell_type": "code",
      "metadata": {
        "id": "T1vJUfvnplZZ",
        "colab_type": "code",
        "colab": {}
      },
      "source": [
        "!pip install lightfm\n",
        "from lightfm import LightFM"
      ],
      "execution_count": 0,
      "outputs": []
    },
    {
      "cell_type": "code",
      "metadata": {
        "id": "sXxUJpeNUWAU",
        "colab_type": "code",
        "colab": {}
      },
      "source": [
        "NUM_COMPONENTS = 30\n",
        "NUM_EPOCHS = 20\n",
        "ITEM_ALPHA = 1e-4\n",
        "model = LightFM(loss='warp',\n",
        "                item_alpha=ITEM_ALPHA,\n",
        "                no_components=NUM_COMPONENTS)\n",
        "model.fit(ratings_sparse, item_features = tfidf_titles,epochs=30, num_threads=4)"
      ],
      "execution_count": 0,
      "outputs": []
    },
    {
      "cell_type": "code",
      "metadata": {
        "id": "h1aKhaC-ofr5",
        "colab_type": "code",
        "colab": {}
      },
      "source": [
        "nump_user = random_benchmark.userId.to_numpy()\n",
        "nump_item = random_benchmark.itemId.to_numpy()"
      ],
      "execution_count": 0,
      "outputs": []
    },
    {
      "cell_type": "code",
      "metadata": {
        "id": "yENffsiJUV-F",
        "colab_type": "code",
        "colab": {}
      },
      "source": [
        "predictions = model.predict(nump_user, nump_item, tfidf_titles)"
      ],
      "execution_count": 0,
      "outputs": []
    },
    {
      "cell_type": "code",
      "metadata": {
        "id": "BaWtjso6hhK6",
        "colab_type": "code",
        "colab": {}
      },
      "source": [
        "random_benchmark['ratings'] = predictions\n",
        "df = random_benchmark.sort_values(['userId','ratings'], ascending=[True,False]).reset_index()\n",
        "df.head()"
      ],
      "execution_count": 0,
      "outputs": []
    },
    {
      "cell_type": "code",
      "metadata": {
        "id": "DKb8fOi_rf7n",
        "colab_type": "code",
        "colab": {}
      },
      "source": [
        "total = df[['userId', 'itemId']]\n",
        "from google.colab import files\n",
        "total.to_csv('lightFM_5.csv', index=False) \n",
        "files.download('lightFM_5.csv')"
      ],
      "execution_count": 0,
      "outputs": []
    },
    {
      "cell_type": "markdown",
      "metadata": {
        "id": "DNvNMVzmiK-q",
        "colab_type": "text"
      },
      "source": [
        "# Matrix Factorization model (score: 0.09330)"
      ]
    },
    {
      "cell_type": "code",
      "metadata": {
        "id": "dSTtr2c4iKoE",
        "colab_type": "code",
        "colab": {}
      },
      "source": [
        "def get_batch(user_ids, item_ids, ratings, feature_embs,  batch_size=32):\n",
        "    ind = np.random.randint(0, len(user_ids), size=(batch_size,))\n",
        "    embs = []\n",
        "    for i in item_ids[ind]:\n",
        "      embs.append(tfidf_titles.getrow(i).toarray())\n",
        "    feature_embs = torch.tensor(np.array(embs).reshape(batch_size, 29762))\n",
        "    yield torch.tensor(user_ids[ind]), torch.tensor(item_ids[ind]), torch.tensor(ratings[ind]), feature_embs"
      ],
      "execution_count": 0,
      "outputs": []
    },
    {
      "cell_type": "code",
      "metadata": {
        "id": "4hm4se8FjvoR",
        "colab_type": "code",
        "colab": {}
      },
      "source": [
        "import torch \n",
        "import torch.nn as nn"
      ],
      "execution_count": 0,
      "outputs": []
    },
    {
      "cell_type": "code",
      "metadata": {
        "id": "hhMaqa78UGx8",
        "colab_type": "code",
        "colab": {}
      },
      "source": [
        "class Model(nn.Module):\n",
        "    def __init__(self, n_users, n_items, embedding_size, fearture_size):\n",
        "        super(Model, self).__init__()\n",
        "        self.emb1 = nn.Embedding(n_users, embedding_size)\n",
        "        self.emb2 = nn.Embedding(n_items, embedding_size)\n",
        "        self.hidden = nn.Linear(2 * embedding_size + fearture_size, 1)\n",
        "    \n",
        "    def forward(self, user, item, features):\n",
        "        user_emb = self.emb1(user)\n",
        "        item_emb = self.emb2(item)\n",
        "        product = self.hidden(torch.cat([user_emb, item_emb, features.float()], dim = 1))\n",
        "        return product"
      ],
      "execution_count": 0,
      "outputs": []
    },
    {
      "cell_type": "code",
      "metadata": {
        "id": "2lq0gtinUNzl",
        "colab_type": "code",
        "colab": {}
      },
      "source": [
        "model = Model(user_ids.max() + 1, item_ids.max() + 1, 100, 29762)"
      ],
      "execution_count": 0,
      "outputs": []
    },
    {
      "cell_type": "code",
      "metadata": {
        "id": "eR718HptUPWC",
        "colab_type": "code",
        "colab": {}
      },
      "source": [
        "loss = nn.MSELoss()\n",
        "optimizer = torch.optim.Adam(model.parameters())\n",
        "step = 0\n",
        "while step < 10000:\n",
        "    for u, i, y, emb in get_batch(user_ids, item_ids, ratings, tfidf_titles):\n",
        "        output = model.forward(u, i, emb)\n",
        "        loss_data = loss(output, y.float())\n",
        "        loss_data.backward()\n",
        "        optimizer.step()\n",
        "        step += 1"
      ],
      "execution_count": 0,
      "outputs": []
    },
    {
      "cell_type": "code",
      "metadata": {
        "id": "31qqvU2GUZZ3",
        "colab_type": "code",
        "colab": {}
      },
      "source": [
        "model.eval()"
      ],
      "execution_count": 0,
      "outputs": []
    },
    {
      "cell_type": "code",
      "metadata": {
        "id": "o6QIsEp31Z42",
        "colab_type": "code",
        "colab": {}
      },
      "source": [
        "random_benchmark.shape"
      ],
      "execution_count": 0,
      "outputs": []
    },
    {
      "cell_type": "code",
      "metadata": {
        "id": "ugf2QzQ1UZG1",
        "colab_type": "code",
        "colab": {}
      },
      "source": [
        "users = torch.tensor(random_benchmark.userId)\n",
        "items_1 = torch.tensor(random_benchmark.itemId)"
      ],
      "execution_count": 0,
      "outputs": []
    },
    {
      "cell_type": "code",
      "metadata": {
        "id": "KbuE54Qm2mR1",
        "colab_type": "code",
        "colab": {}
      },
      "source": [
        "pred = model.forward(users[0].reshape(1, ), items_1[0].reshape(1,), torch.tensor(tfidf_titles.getrow(np.array(random_benchmark.itemId)[0]).toarray()))\n"
      ],
      "execution_count": 0,
      "outputs": []
    },
    {
      "cell_type": "markdown",
      "metadata": {
        "id": "0r0G1EuI_XxL",
        "colab_type": "text"
      },
      "source": [
        "# Испугался вдпуг все крашнится)\n"
      ]
    },
    {
      "cell_type": "code",
      "metadata": {
        "id": "wb41DZYy7HlP",
        "colab_type": "code",
        "colab": {}
      },
      "source": [
        "pred = model.forward(users[0].reshape(1, ), items_1[0].reshape(1,), torch.tensor(tfidf_titles.getrow(np.array(random_benchmark.itemId)[0]).toarray()))\n",
        "for i in range(1, random_benchmark.shape[0]):\n",
        "  pred_1 = model.forward(users[i].reshape(1, ), items_1[i].reshape(1,),torch.tensor(tfidf_titles.getrow(np.array(random_benchmark.itemId)[i]).toarray()))\n",
        "  pred = torch.cat([pred, pred_1], dim = 0)"
      ],
      "execution_count": 0,
      "outputs": []
    },
    {
      "cell_type": "markdown",
      "metadata": {
        "id": "Me2Gw9iOAoA1",
        "colab_type": "text"
      },
      "source": [
        "# Все крашнулось)"
      ]
    },
    {
      "cell_type": "code",
      "metadata": {
        "id": "qLrfoiRd-elN",
        "colab_type": "code",
        "colab": {}
      },
      "source": [
        "random_benchmark['ratings'] = pred\n",
        "df = random_benchmark.sort_values(['userId','ratings'], ascending=[True,False]).reset_index()\n",
        "df.head()"
      ],
      "execution_count": 0,
      "outputs": []
    },
    {
      "cell_type": "code",
      "metadata": {
        "id": "N8woDJwu_HkL",
        "colab_type": "code",
        "colab": {}
      },
      "source": [
        "total = df[['userId', 'itemId']]\n",
        "from google.colab import files\n",
        "total.to_csv('MaxFac_final.csv', index=False) \n",
        "files.download('MaxFac_final.csv')"
      ],
      "execution_count": 0,
      "outputs": []
    }
  ]
}