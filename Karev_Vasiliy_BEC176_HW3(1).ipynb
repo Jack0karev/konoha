{
  "nbformat": 4,
  "nbformat_minor": 0,
  "metadata": {
    "accelerator": "GPU",
    "colab": {
      "name": "Karev_Vasiliy_BEC176_HW3.ipynb",
      "provenance": [],
      "collapsed_sections": []
    },
    "kernelspec": {
      "display_name": "Python 3",
      "language": "python",
      "name": "python3"
    },
    "language_info": {
      "codemirror_mode": {
        "name": "ipython",
        "version": 3
      },
      "file_extension": ".py",
      "mimetype": "text/x-python",
      "name": "python",
      "nbconvert_exporter": "python",
      "pygments_lexer": "ipython3",
      "version": "3.7.3"
    }
  },
  "cells": [
    {
      "cell_type": "markdown",
      "metadata": {
        "colab_type": "text",
        "id": "gO2BchskQWoH"
      },
      "source": [
        "# Домашнее задание 3.\n",
        "\n",
        "`Keras` и сверточные нейронные сети."
      ]
    },
    {
      "cell_type": "code",
      "metadata": {
        "colab_type": "code",
        "id": "WmIuIaLEATMn",
        "outputId": "84b9028f-1f78-4633-b789-3c1eb1f10bcc",
        "colab": {
          "base_uri": "https://localhost:8080/",
          "height": 116
        }
      },
      "source": [
        "import tensorflow as tf\n",
        "import keras\n",
        "from keras import backend as K\n",
        "import numpy as np\n",
        "%matplotlib inline\n",
        "import matplotlib.pyplot as plt\n",
        "print(tf.__version__)\n",
        "print(keras.__version__)"
      ],
      "execution_count": 1,
      "outputs": [
        {
          "output_type": "display_data",
          "data": {
            "text/html": [
              "<p style=\"color: red;\">\n",
              "The default version of TensorFlow in Colab will soon switch to TensorFlow 2.x.<br>\n",
              "We recommend you <a href=\"https://www.tensorflow.org/guide/migrate\" target=\"_blank\">upgrade</a> now \n",
              "or ensure your notebook will continue to use TensorFlow 1.x via the <code>%tensorflow_version 1.x</code> magic:\n",
              "<a href=\"https://colab.research.google.com/notebooks/tensorflow_version.ipynb\" target=\"_blank\">more info</a>.</p>\n"
            ],
            "text/plain": [
              "<IPython.core.display.HTML object>"
            ]
          },
          "metadata": {
            "tags": []
          }
        },
        {
          "output_type": "stream",
          "text": [
            "1.15.0\n",
            "2.2.5\n"
          ],
          "name": "stdout"
        },
        {
          "output_type": "stream",
          "text": [
            "Using TensorFlow backend.\n"
          ],
          "name": "stderr"
        }
      ]
    },
    {
      "cell_type": "code",
      "metadata": {
        "colab_type": "code",
        "id": "efsrp4vQfls5",
        "colab": {}
      },
      "source": [
        "def reset_tf_session():\n",
        "    curr_session = tf.get_default_session()\n",
        "    if curr_session is not None:\n",
        "        curr_session.close()\n",
        "    K.clear_session()\n",
        "    config = tf.ConfigProto()\n",
        "    config.gpu_options.allow_growth = True\n",
        "    s = tf.InteractiveSession(config=config)\n",
        "    K.set_session(s)\n",
        "    return s"
      ],
      "execution_count": 0,
      "outputs": []
    },
    {
      "cell_type": "markdown",
      "metadata": {
        "colab_type": "text",
        "id": "HE_SpMQMQm8Y"
      },
      "source": [
        "## Задание 1 — инициализация весов CNN (3 балла).\n",
        "\n",
        "В этом задании нужно будет исследовать, как выбор функции инициализации весов влияет на обучение CNN.\n"
      ]
    },
    {
      "cell_type": "markdown",
      "metadata": {
        "colab_type": "text",
        "id": "oIoAOXkJSwbs"
      },
      "source": [
        "Продолжим работать с датасетом CIFAR-10."
      ]
    },
    {
      "cell_type": "code",
      "metadata": {
        "colab_type": "code",
        "id": "IsuA4kiHA4ff",
        "outputId": "484513a2-4ade-479c-f492-0a1a7c4d721c",
        "colab": {
          "base_uri": "https://localhost:8080/",
          "height": 86
        }
      },
      "source": [
        "from keras.datasets import cifar10\n",
        "(x_train, y_train), (x_test, y_test) = cifar10.load_data()\n",
        "\n",
        "NUM_CLASSES = 10\n",
        "cifar10_classes = [\"airplane\", \"automobile\", \"bird\", \"cat\", \"deer\", \n",
        "                   \"dog\", \"frog\", \"horse\", \"ship\", \"truck\"]\n",
        "\n",
        "print(\"Train samples:\", x_train.shape, y_train.shape)\n",
        "print(\"Test samples:\", x_test.shape, y_test.shape)\n",
        "\n",
        "# нормализуем входные данные\n",
        "x_train = x_train / 255 - 0.5\n",
        "x_test = x_test / 255 - 0.5\n",
        "\n",
        "y_train = keras.utils.to_categorical(y_train, 10)\n",
        "y_test = keras.utils.to_categorical(y_test, 10)"
      ],
      "execution_count": 3,
      "outputs": [
        {
          "output_type": "stream",
          "text": [
            "Downloading data from https://www.cs.toronto.edu/~kriz/cifar-10-python.tar.gz\n",
            "170500096/170498071 [==============================] - 4s 0us/step\n",
            "Train samples: (50000, 32, 32, 3) (50000, 1)\n",
            "Test samples: (10000, 32, 32, 3) (10000, 1)\n"
          ],
          "name": "stdout"
        }
      ]
    },
    {
      "cell_type": "code",
      "metadata": {
        "colab_type": "code",
        "id": "xNl2e8LeftcC",
        "colab": {}
      },
      "source": [
        "from keras.models import Sequential\n",
        "from keras.layers import Conv2D, MaxPooling2D, Flatten, Dense, Activation, Dropout\n",
        "from keras.layers.advanced_activations import LeakyReLU\n",
        "from keras.models import load_model"
      ],
      "execution_count": 0,
      "outputs": []
    },
    {
      "cell_type": "markdown",
      "metadata": {
        "colab_type": "text",
        "id": "f2vQIUE3UeiE"
      },
      "source": [
        "Определим функцию `fit_model` с архитектурой архитектура CNN.\n",
        "\n",
        "Метод `model.fit` возвращает объект класса `keras.callbacks.History()` — это колбэк, который автоматически применяется ко всем моделям и логирует много чего полезного. В частности логируются значения функции потерь на каждой итерации."
      ]
    },
    {
      "cell_type": "markdown",
      "metadata": {
        "colab_type": "text",
        "id": "dDslR6vNZry8"
      },
      "source": [
        "**Задание 1.1** (0.5 балла) Добавьте в архитектуру модели инициализацию весов для тех слоев, где она необходима.\n"
      ]
    },
    {
      "cell_type": "code",
      "metadata": {
        "colab_type": "code",
        "id": "2_Lu7SO3CMid",
        "colab": {}
      },
      "source": [
        "def fit_model(initializer='glorot_normal'):\n",
        "    s = reset_tf_session()  \n",
        "    INIT_LR = 5e-3\n",
        "    BATCH_SIZE = 32\n",
        "    EPOCHS = 10\n",
        "   \n",
        "    def lr_scheduler(epoch):\n",
        "        return INIT_LR * 0.9 ** epoch  \n",
        "\n",
        "    ### YOUR CODE HERE \n",
        "    # kernel_initializer=initializer для тех слоев, которым нужна инициализация весов\n",
        "    model = Sequential()\n",
        "    model.add(Conv2D(filters=16, padding='same', kernel_size=(3,3), kernel_initializer=initializer , input_shape=(32,32,3)))\n",
        "    model.add(LeakyReLU(0.1))\n",
        "    model.add(Conv2D(filters=64, padding='same', kernel_initializer=initializer ,kernel_size=(3,3)))  \n",
        "    model.add(LeakyReLU(0.1))\n",
        "    model.add(MaxPooling2D(pool_size=(2,2), padding='same'))\n",
        "    model.add(Dropout(0.25))\n",
        "    model.add(Flatten())\n",
        "    model.add(Dense(40, kernel_initializer=initializer))\n",
        "    model.add(LeakyReLU(0.1))\n",
        "    model.add(Dropout(0.5))    \n",
        "    model.add(Dense(10, kernel_initializer=initializer))\n",
        "    model.add(Activation(\"softmax\"))\n",
        "\n",
        "\n",
        "    model.compile(\n",
        "        loss='categorical_crossentropy',\n",
        "        optimizer=keras.optimizers.adamax(lr=INIT_LR),\n",
        "        metrics=['accuracy']\n",
        "    )\n",
        "  \n",
        "    history = model.fit(\n",
        "        x_train, y_train,\n",
        "        batch_size=BATCH_SIZE,\n",
        "        epochs=EPOCHS,\n",
        "        callbacks=[keras.callbacks.LearningRateScheduler(lr_scheduler)],                   \n",
        "        shuffle=True,\n",
        "        verbose=0,\n",
        "        initial_epoch=0    \n",
        "    )\n",
        "\n",
        "    # Возвращаем объект класса keras.callbacks.History\n",
        "    return history"
      ],
      "execution_count": 0,
      "outputs": []
    },
    {
      "cell_type": "markdown",
      "metadata": {
        "colab_type": "text",
        "id": "bYkZkghfT4uN"
      },
      "source": [
        "**Задание 1.2** (1.5 балла). Обучите модель с разными [функциями инициализации](https://keras.io/initializers/) весов:\n",
        "* `Zeros` — веса инициализируются нулями\n",
        "* `Constant=0.05` — веса инициализируются константой 0.05\n",
        "* `RandomUniform` — веса генерируются равномерно из отрезка [-0.05, 0.05]\n",
        "* `glorot_normal` — Xavier initializer из лекций\n",
        "* `lecun_uniform`\n",
        "\n",
        "Добавьте в список `losses` значения функции потерь для каждой функции инициализации, их можно достать из `History`\n",
        "\n"
      ]
    },
    {
      "cell_type": "code",
      "metadata": {
        "id": "Qg3tF8FUrljI",
        "colab_type": "code",
        "colab": {}
      },
      "source": [
        "class LossHistory(keras.callbacks.Callback):\n",
        "    def on_train_begin(self, logs={}):\n",
        "        self.losses = []\n",
        "\n",
        "    def on_batch_end(self, batch, logs={}):\n",
        "        self.losses.append(logs.get('loss'))\n",
        "\n",
        "def fit_model(initializer):\n",
        "    s = reset_tf_session()  \n",
        "    INIT_LR = 5e-3\n",
        "    BATCH_SIZE = 32\n",
        "    EPOCHS = 10\n",
        "   \n",
        "    def lr_scheduler(epoch):\n",
        "        return INIT_LR * 0.9 ** epoch  \n",
        "\n",
        "    ### YOUR CODE HERE \n",
        "    # kernel_initializer=initializer для тех слоев, которым нужна инициализация весов\n",
        "    model = Sequential()\n",
        "    model.add(Conv2D(filters=16, padding='same', kernel_size=(3,3), kernel_initializer=initializer , input_shape=(32,32,3)))\n",
        "    model.add(LeakyReLU(0.1))\n",
        "    model.add(Conv2D(filters=64, padding='same', kernel_initializer=initializer ,kernel_size=(3,3)))  \n",
        "    model.add(LeakyReLU(0.1))\n",
        "    model.add(MaxPooling2D(pool_size=(2,2), padding='same'))\n",
        "    model.add(Dropout(0.25))\n",
        "    model.add(Flatten())\n",
        "    model.add(Dense(40, kernel_initializer=initializer))\n",
        "    model.add(LeakyReLU(0.1))\n",
        "    model.add(Dropout(0.5))    \n",
        "    model.add(Dense(10, kernel_initializer=initializer))\n",
        "    model.add(Activation(\"softmax\"))\n",
        "\n",
        "\n",
        "    model.compile(\n",
        "        loss='categorical_crossentropy',\n",
        "        optimizer=keras.optimizers.adamax(lr=INIT_LR),\n",
        "        metrics=['accuracy']\n",
        "    )\n",
        "  \n",
        "    history = LossHistory()\n",
        "    model.fit(x_train, y_train,\n",
        "        batch_size=BATCH_SIZE,\n",
        "        epochs=EPOCHS,\n",
        "        callbacks=[history],                   \n",
        "        shuffle=True,\n",
        "        verbose=0,\n",
        "        initial_epoch=0    \n",
        "    )\n",
        "\n",
        "    # Возвращаем объект класса keras.callbacks.History\n",
        "    return history"
      ],
      "execution_count": 0,
      "outputs": []
    },
    {
      "cell_type": "code",
      "metadata": {
        "id": "lo_OToilsvA6",
        "colab_type": "code",
        "outputId": "34d2a76c-8205-4c34-b644-0591f5ed9224",
        "colab": {
          "base_uri": "https://localhost:8080/",
          "height": 662
        }
      },
      "source": [
        "zeros_weights = fit_model(keras.initializers.Zeros())\n",
        "constant_weigths = fit_model(keras.initializers.Constant(value=0.05))\n",
        "uniform_weights = fit_model(keras.initializers.RandomUniform(minval=-0.05, maxval=0.05, seed=None))\n",
        "glorot_weights = fit_model(keras.initializers.glorot_normal(seed=None))\n",
        "lecun_weigths = fit_model(keras.initializers.lecun_uniform(seed=None))"
      ],
      "execution_count": 7,
      "outputs": [
        {
          "output_type": "stream",
          "text": [
            "WARNING:tensorflow:From /usr/local/lib/python3.6/dist-packages/keras/backend/tensorflow_backend.py:107: The name tf.reset_default_graph is deprecated. Please use tf.compat.v1.reset_default_graph instead.\n",
            "\n",
            "WARNING:tensorflow:From /usr/local/lib/python3.6/dist-packages/keras/backend/tensorflow_backend.py:111: The name tf.placeholder_with_default is deprecated. Please use tf.compat.v1.placeholder_with_default instead.\n",
            "\n",
            "WARNING:tensorflow:From /usr/local/lib/python3.6/dist-packages/keras/backend/tensorflow_backend.py:66: The name tf.get_default_graph is deprecated. Please use tf.compat.v1.get_default_graph instead.\n",
            "\n",
            "WARNING:tensorflow:From /usr/local/lib/python3.6/dist-packages/keras/backend/tensorflow_backend.py:541: The name tf.placeholder is deprecated. Please use tf.compat.v1.placeholder instead.\n",
            "\n",
            "WARNING:tensorflow:From /usr/local/lib/python3.6/dist-packages/keras/backend/tensorflow_backend.py:4267: The name tf.nn.max_pool is deprecated. Please use tf.nn.max_pool2d instead.\n",
            "\n",
            "WARNING:tensorflow:From /usr/local/lib/python3.6/dist-packages/keras/backend/tensorflow_backend.py:3733: calling dropout (from tensorflow.python.ops.nn_ops) with keep_prob is deprecated and will be removed in a future version.\n",
            "Instructions for updating:\n",
            "Please use `rate` instead of `keep_prob`. Rate should be set to `rate = 1 - keep_prob`.\n",
            "WARNING:tensorflow:From /usr/local/lib/python3.6/dist-packages/keras/optimizers.py:793: The name tf.train.Optimizer is deprecated. Please use tf.compat.v1.train.Optimizer instead.\n",
            "\n",
            "WARNING:tensorflow:From /usr/local/lib/python3.6/dist-packages/keras/backend/tensorflow_backend.py:3576: The name tf.log is deprecated. Please use tf.math.log instead.\n",
            "\n",
            "WARNING:tensorflow:From /usr/local/lib/python3.6/dist-packages/tensorflow_core/python/ops/math_grad.py:1424: where (from tensorflow.python.ops.array_ops) is deprecated and will be removed in a future version.\n",
            "Instructions for updating:\n",
            "Use tf.where in 2.0, which has the same broadcast rule as np.where\n",
            "WARNING:tensorflow:From /usr/local/lib/python3.6/dist-packages/keras/backend/tensorflow_backend.py:1033: The name tf.assign_add is deprecated. Please use tf.compat.v1.assign_add instead.\n",
            "\n",
            "WARNING:tensorflow:From /usr/local/lib/python3.6/dist-packages/keras/backend/tensorflow_backend.py:1020: The name tf.assign is deprecated. Please use tf.compat.v1.assign instead.\n",
            "\n",
            "WARNING:tensorflow:From /usr/local/lib/python3.6/dist-packages/keras/backend/tensorflow_backend.py:3005: The name tf.Session is deprecated. Please use tf.compat.v1.Session instead.\n",
            "\n",
            "WARNING:tensorflow:From /usr/local/lib/python3.6/dist-packages/keras/backend/tensorflow_backend.py:207: The name tf.global_variables is deprecated. Please use tf.compat.v1.global_variables instead.\n",
            "\n",
            "WARNING:tensorflow:From /usr/local/lib/python3.6/dist-packages/keras/backend/tensorflow_backend.py:216: The name tf.is_variable_initialized is deprecated. Please use tf.compat.v1.is_variable_initialized instead.\n",
            "\n",
            "WARNING:tensorflow:From /usr/local/lib/python3.6/dist-packages/keras/backend/tensorflow_backend.py:223: The name tf.variables_initializer is deprecated. Please use tf.compat.v1.variables_initializer instead.\n",
            "\n",
            "WARNING:tensorflow:From /usr/local/lib/python3.6/dist-packages/keras/backend/tensorflow_backend.py:4432: The name tf.random_uniform is deprecated. Please use tf.random.uniform instead.\n",
            "\n",
            "WARNING:tensorflow:From /usr/local/lib/python3.6/dist-packages/keras/backend/tensorflow_backend.py:4479: The name tf.truncated_normal is deprecated. Please use tf.random.truncated_normal instead.\n",
            "\n"
          ],
          "name": "stdout"
        }
      ]
    },
    {
      "cell_type": "code",
      "metadata": {
        "colab_type": "code",
        "id": "dTieYmgUmQ8G",
        "colab": {}
      },
      "source": [
        "losses = []\n",
        "\n",
        "### YOUR CODE HERE \n",
        "losses.append(zeros_weights.losses)\n",
        "losses.append(constant_weigths.losses)\n",
        "losses.append(uniform_weights.losses)\n",
        "losses.append(glorot_weights.losses)\n",
        "losses.append(lecun_weigths.losses)"
      ],
      "execution_count": 0,
      "outputs": []
    },
    {
      "cell_type": "markdown",
      "metadata": {
        "colab_type": "text",
        "id": "wsk8bCEPcOav"
      },
      "source": [
        "**Задание 1.3** (1 балла). Постройте графики зависимости функций потерь от номера итерации, подпишите их. Прокомментируйте результат."
      ]
    },
    {
      "cell_type": "code",
      "metadata": {
        "colab_type": "code",
        "id": "3yqBZIYEAPWZ",
        "outputId": "0754e53c-12d6-42ca-b0aa-df4fc3ca93f8",
        "colab": {
          "base_uri": "https://localhost:8080/",
          "height": 877
        }
      },
      "source": [
        "### YOUR CODE HERE \n",
        "f = plt.figure(figsize=(15,15))\n",
        "ax = f.add_subplot(231)\n",
        "ax2 = f.add_subplot(232)\n",
        "ax3 = f.add_subplot(233)\n",
        "ax4 = f.add_subplot(234)\n",
        "ax5 = f.add_subplot(235)\n",
        "ax6 = f.add_subplot(236)\n",
        "\n",
        "\n",
        "ax.plot(range(len(losses[0])), losses[0], label='Zeros')\n",
        "ax.legend(loc='best')\n",
        "ax2.plot(range(len(losses[0])), losses[1],'green',label='Constants')\n",
        "ax2.legend(loc='best')\n",
        "ax3.plot(range(len(losses[0])), losses[2], 'orange', label='Random_Uniform')\n",
        "ax3.legend(loc='best')\n",
        "ax4.plot(range(len(losses[0])), losses[3], 'grey', label='Glorot_Normal')\n",
        "ax4.legend(loc='best')\n",
        "ax5.plot(range(len(losses[0])), losses[4], 'pink', label='Lecun_Uniform')\n",
        "ax5.legend(loc='best')\n",
        "ax6.plot(range(len(losses[0])), losses[0], label='Zeros')\n",
        "ax6.plot(range(len(losses[0])), losses[1], label='Constants')\n",
        "ax6.plot(range(len(losses[0])), losses[2], label='Random_Uniform')\n",
        "ax6.plot(range(len(losses[0])), losses[3], label='Glorot_Normal')\n",
        "ax6.plot(range(len(losses[0])), losses[4], label='Lecun_Uniform')\n",
        "plt.xlabel('Number of iteration')\n",
        "plt.ylabel('Value of Loss')\n",
        "plt.title('Graph of Loss')\n",
        "plt.legend(loc='best')\n",
        "plt.show()\n",
        "\n"
      ],
      "execution_count": 11,
      "outputs": [
        {
          "output_type": "display_data",
          "data": {
            "image/png": "[encoded data removed]",
            "text/plain": [
              "<Figure size 1080x1080 with 6 Axes>"
            ]
          },
          "metadata": {
            "tags": []
          }
        }
      ]
    },
    {
      "cell_type": "markdown",
      "metadata": {
        "id": "ywjQl4AasE8E",
        "colab_type": "text"
      },
      "source": [
        "По полученным графикам видно, что если занулить веса, то ошибка всегда будет колебаться около 2, то есть данный способ инизиализации весов крайне не продуктивен. Если же инициализировать веса как константы, то это будет в разы лучше чем нулевые веса, но при этом видно, что скорость сходимость все же мала. Относительно трех оставшихся способон инициализации тяжело что-то выделить, т.к. имеющиеся отличия крайне незначительны, они достигают приблизительно одинакового минимума с небольшими отличиями на первых итерациях: у спопсоба инициализации Lecun_Uniform в начальный момент довольно высокая ошибка, но она быстро уменьшается, а оставшиеся два Glorot_Normal и Random_Uniform сильно схожи.\n"
      ]
    },
    {
      "cell_type": "markdown",
      "metadata": {
        "colab_type": "text",
        "id": "nellCcusBAZ8"
      },
      "source": [
        "## Задание 2 — CNN для CIFAR-10 с сохранением весов модели (7 баллов)\n",
        "\n",
        "В этом задании мы модифицируем нейросеть с семинара, чтобы она достигала большего значения `accuracy` и научимся сохранять веса модели в файл во время обучения. Можно использовать только те же слои, которые использовались на семинаре: `Conv2D, MaxPooling2D,  LeakyReLU, Dropout, Flatten, Dense`."
      ]
    },
    {
      "cell_type": "markdown",
      "metadata": {
        "colab_type": "text",
        "id": "xuVF3c2qJwyx"
      },
      "source": [
        "**Задание 2.1** (4 балла). Подберите архитектуру модели так, чтобы значение `accuracy` на тестовой выборке было не менее 85."
      ]
    },
    {
      "cell_type": "code",
      "metadata": {
        "colab_type": "code",
        "id": "syKDJPUdCtoI",
        "colab": {}
      },
      "source": [
        "def make_model():    \n",
        "\n",
        "    ### YOUR CODE HERE\n",
        "    model = Sequential()\n",
        "    model.add(Conv2D(filters=32, kernel_size=(3,3), padding='same', kernel_initializer='he_uniform',  input_shape=(32,32,3)))\n",
        "    model.add(LeakyReLU(0.1))\n",
        "    model.add(Conv2D(filters=32, kernel_size=(3,3), padding='same', kernel_initializer='he_uniform',  input_shape=(32,32,3)))\n",
        "    model.add(LeakyReLU(0.1))\n",
        "    model.add(MaxPooling2D(pool_size=(2,2), padding='same'))\n",
        "    model.add(Dropout(0.2))\n",
        "    model.add(Conv2D(filters=64, kernel_size=(3,3), padding='same', kernel_initializer='he_uniform',  input_shape=(32,32,3)))\n",
        "    model.add(LeakyReLU(0.1))\n",
        "    model.add(Conv2D(filters=64, kernel_size=(3,3), padding='same', kernel_initializer='he_uniform',  input_shape=(32,32,3)))\n",
        "    model.add(LeakyReLU(0.1)) \n",
        "    model.add(MaxPooling2D(pool_size=(2,2), padding='same'))\n",
        "    model.add(Dropout(0.3))\n",
        "    model.add(Conv2D(filters=128, kernel_size=(3,3), padding='same', kernel_initializer='he_uniform',  input_shape=(32,32,3)))\n",
        "    model.add(LeakyReLU(0.1))\n",
        "    model.add(Conv2D(filters=128, kernel_size=(3,3), padding='same', kernel_initializer='he_uniform',  input_shape=(32,32,3)))\n",
        "    model.add(LeakyReLU(0.1))\n",
        "    model.add(MaxPooling2D(pool_size=(2,2), padding='same'))\n",
        "    model.add(Dropout(0.4))\n",
        "    model.add(Flatten())\n",
        "    model.add(Dense(128, kernel_initializer='he_uniform'))\n",
        "    model.add(LeakyReLU(0.1))\n",
        "    model.add(Dropout(0.5))    \n",
        "    model.add(Dense(10, kernel_initializer='he_uniform'))\n",
        "    model.add(Activation(\"softmax\"))\n",
        "    \n",
        "\n",
        "    \n",
        "    return model    "
      ],
      "execution_count": 0,
      "outputs": []
    },
    {
      "cell_type": "code",
      "metadata": {
        "colab_type": "code",
        "id": "MoZifjkgFdcg",
        "outputId": "a5df6c64-0ebe-405a-c39e-259b08aeb2ec",
        "colab": {
          "base_uri": "https://localhost:8080/",
          "height": 990
        }
      },
      "source": [
        "s = reset_tf_session()\n",
        "model = make_model()\n",
        "model.summary()"
      ],
      "execution_count": 13,
      "outputs": [
        {
          "output_type": "stream",
          "text": [
            "Model: \"sequential_1\"\n",
            "_________________________________________________________________\n",
            "Layer (type)                 Output Shape              Param #   \n",
            "=================================================================\n",
            "conv2d_1 (Conv2D)            (None, 32, 32, 32)        896       \n",
            "_________________________________________________________________\n",
            "leaky_re_lu_1 (LeakyReLU)    (None, 32, 32, 32)        0         \n",
            "_________________________________________________________________\n",
            "conv2d_2 (Conv2D)            (None, 32, 32, 32)        9248      \n",
            "_________________________________________________________________\n",
            "leaky_re_lu_2 (LeakyReLU)    (None, 32, 32, 32)        0         \n",
            "_________________________________________________________________\n",
            "max_pooling2d_1 (MaxPooling2 (None, 16, 16, 32)        0         \n",
            "_________________________________________________________________\n",
            "dropout_1 (Dropout)          (None, 16, 16, 32)        0         \n",
            "_________________________________________________________________\n",
            "conv2d_3 (Conv2D)            (None, 16, 16, 64)        18496     \n",
            "_________________________________________________________________\n",
            "leaky_re_lu_3 (LeakyReLU)    (None, 16, 16, 64)        0         \n",
            "_________________________________________________________________\n",
            "conv2d_4 (Conv2D)            (None, 16, 16, 64)        36928     \n",
            "_________________________________________________________________\n",
            "leaky_re_lu_4 (LeakyReLU)    (None, 16, 16, 64)        0         \n",
            "_________________________________________________________________\n",
            "max_pooling2d_2 (MaxPooling2 (None, 8, 8, 64)          0         \n",
            "_________________________________________________________________\n",
            "dropout_2 (Dropout)          (None, 8, 8, 64)          0         \n",
            "_________________________________________________________________\n",
            "conv2d_5 (Conv2D)            (None, 8, 8, 128)         73856     \n",
            "_________________________________________________________________\n",
            "leaky_re_lu_5 (LeakyReLU)    (None, 8, 8, 128)         0         \n",
            "_________________________________________________________________\n",
            "conv2d_6 (Conv2D)            (None, 8, 8, 128)         147584    \n",
            "_________________________________________________________________\n",
            "leaky_re_lu_6 (LeakyReLU)    (None, 8, 8, 128)         0         \n",
            "_________________________________________________________________\n",
            "max_pooling2d_3 (MaxPooling2 (None, 4, 4, 128)         0         \n",
            "_________________________________________________________________\n",
            "dropout_3 (Dropout)          (None, 4, 4, 128)         0         \n",
            "_________________________________________________________________\n",
            "flatten_1 (Flatten)          (None, 2048)              0         \n",
            "_________________________________________________________________\n",
            "dense_1 (Dense)              (None, 128)               262272    \n",
            "_________________________________________________________________\n",
            "leaky_re_lu_7 (LeakyReLU)    (None, 128)               0         \n",
            "_________________________________________________________________\n",
            "dropout_4 (Dropout)          (None, 128)               0         \n",
            "_________________________________________________________________\n",
            "dense_2 (Dense)              (None, 10)                1290      \n",
            "_________________________________________________________________\n",
            "activation_1 (Activation)    (None, 10)                0         \n",
            "=================================================================\n",
            "Total params: 550,570\n",
            "Trainable params: 550,570\n",
            "Non-trainable params: 0\n",
            "_________________________________________________________________\n"
          ],
          "name": "stdout"
        }
      ]
    },
    {
      "cell_type": "markdown",
      "metadata": {
        "colab_type": "text",
        "id": "JJLpZQhJGBqL"
      },
      "source": [
        "**Задание 2.2** (2 балла). Реализуйте колбэк, который сохраняет модель в `.hdf5` файл и печатает имя файла, в который была сохранена модель. Используйте функцию `model_save`. Строка с именем файла имеет вид `<name>_{0:02d}.hdf5`, отформатируйте ее так, чтобы в имени строки фигурировал номер эпохи."
      ]
    },
    {
      "cell_type": "code",
      "metadata": {
        "colab_type": "code",
        "id": "xYjUeuDXGBII",
        "colab": {}
      },
      "source": [
        "from keras.models import save_model, load_model\n",
        "\n",
        "class ModelSaveCallback(keras.callbacks.Callback):\n",
        "\n",
        "    def __init__(self, file_name):\n",
        "        super(ModelSaveCallback, self).__init__()\n",
        "        self.file_name = file_name\n",
        "\n",
        "    def on_epoch_end(self, epoch, logs=None):\n",
        "        ### YOUR CODE HERE\n",
        "        self.epoch = epoch\n",
        "        save_model(model, self.file_name.format(self.epoch + 1))\n",
        "        print(\"Epoch:\", self.epoch + 1)\n",
        "        print('Model saved in ' + self.file_name.format(self.epoch + 1))"
      ],
      "execution_count": 0,
      "outputs": []
    },
    {
      "cell_type": "markdown",
      "metadata": {
        "colab_type": "text",
        "id": "Svrwkh8ALpHa"
      },
      "source": [
        "**Задание 2.3** (1 балл). Реализуйте функцию, которая с помощью `load_model` будет загружать модель из файла."
      ]
    },
    {
      "cell_type": "code",
      "metadata": {
        "colab_type": "code",
        "id": "fVD0P5V7M00C",
        "colab": {}
      },
      "source": [
        "def load_from_file(model_filename, last_epoch):\n",
        "  ### YOUR CODE HERE\n",
        "  return load_model(model_filename.format(last_epoch))\n"
      ],
      "execution_count": 0,
      "outputs": []
    },
    {
      "cell_type": "code",
      "metadata": {
        "colab_type": "code",
        "id": "zOLb6flQFjCw",
        "outputId": "b2073330-05c6-4e9b-88af-8a431f526333",
        "colab": {
          "base_uri": "https://localhost:8080/",
          "height": 1000
        }
      },
      "source": [
        "INIT_LR = 5e-3\n",
        "BATCH_SIZE = 32\n",
        "EPOCHS = 20\n",
        "\n",
        "model_filename = 'weights_{0:02d}.hdf5'\n",
        "\n",
        "s = reset_tf_session()\n",
        "\n",
        "#model = make_model()\n",
        "model = load_from_file(model_filename, 20)\n",
        "model.compile(\n",
        "    loss='categorical_crossentropy',\n",
        "    optimizer=keras.optimizers.SGD(lr=0.001, momentum=0.9),\n",
        "    metrics=['accuracy']\n",
        ")\n",
        "\n",
        "def lr_scheduler(epoch):\n",
        "    return INIT_LR * 0.9 ** epoch \n",
        "\n",
        "# в случае, если обучение было прервано, можно загрузить модель из файла, \n",
        "# соответствующего последней эпохе, за которую есть сохраненные веса\n",
        "# model = load_from_file(model_filename, 4)\n",
        "  \n",
        "history = model.fit(\n",
        "    x_train, y_train,\n",
        "    batch_size=BATCH_SIZE,\n",
        "    epochs=EPOCHS,\n",
        "    callbacks=[keras.callbacks.LearningRateScheduler(lr_scheduler), \n",
        "               # не забудьте передать сюда ModelSaveCallback\n",
        "               ModelSaveCallback(model_filename)\n",
        "              ],\n",
        "    validation_data=(x_test, y_test),\n",
        "    shuffle=True,\n",
        "    verbose=1,\n",
        "    initial_epoch=0    \n",
        ")\n",
        "  "
      ],
      "execution_count": 18,
      "outputs": [
        {
          "output_type": "stream",
          "text": [
            "Train on 50000 samples, validate on 10000 samples\n",
            "Epoch 1/20\n",
            "50000/50000 [==============================] - 34s 678us/step - loss: 0.5310 - acc: 0.8159 - val_loss: 0.5412 - val_acc: 0.8212\n",
            "Epoch: 1\n",
            "Model saved in weights_01.hdf5\n",
            "Epoch 2/20\n",
            "50000/50000 [==============================] - 33s 651us/step - loss: 0.5103 - acc: 0.8218 - val_loss: 0.5172 - val_acc: 0.8280\n",
            "Epoch: 2\n",
            "Model saved in weights_02.hdf5\n",
            "Epoch 3/20\n",
            "50000/50000 [==============================] - 32s 646us/step - loss: 0.4865 - acc: 0.8304 - val_loss: 0.5115 - val_acc: 0.8290\n",
            "Epoch: 3\n",
            "Model saved in weights_03.hdf5\n",
            "Epoch 4/20\n",
            "50000/50000 [==============================] - 32s 642us/step - loss: 0.4633 - acc: 0.8375 - val_loss: 0.5021 - val_acc: 0.8327\n",
            "Epoch: 4\n",
            "Model saved in weights_04.hdf5\n",
            "Epoch 5/20\n",
            "50000/50000 [==============================] - 32s 639us/step - loss: 0.4354 - acc: 0.8478 - val_loss: 0.5319 - val_acc: 0.8301\n",
            "Epoch: 5\n",
            "Model saved in weights_05.hdf5\n",
            "Epoch 6/20\n",
            "50000/50000 [==============================] - 32s 639us/step - loss: 0.4227 - acc: 0.8508 - val_loss: 0.5068 - val_acc: 0.8386\n",
            "Epoch: 6\n",
            "Model saved in weights_06.hdf5\n",
            "Epoch 7/20\n",
            "50000/50000 [==============================] - 32s 640us/step - loss: 0.4028 - acc: 0.8567 - val_loss: 0.4933 - val_acc: 0.8388\n",
            "Epoch: 7\n",
            "Model saved in weights_07.hdf5\n",
            "Epoch 8/20\n",
            "50000/50000 [==============================] - 32s 644us/step - loss: 0.3864 - acc: 0.8632 - val_loss: 0.4691 - val_acc: 0.8464\n",
            "Epoch: 8\n",
            "Model saved in weights_08.hdf5\n",
            "Epoch 9/20\n",
            "50000/50000 [==============================] - 32s 640us/step - loss: 0.3734 - acc: 0.8688 - val_loss: 0.4693 - val_acc: 0.8479\n",
            "Epoch: 9\n",
            "Model saved in weights_09.hdf5\n",
            "Epoch 10/20\n",
            "50000/50000 [==============================] - 32s 641us/step - loss: 0.3541 - acc: 0.8736 - val_loss: 0.5012 - val_acc: 0.8405\n",
            "Epoch: 10\n",
            "Model saved in weights_10.hdf5\n",
            "Epoch 11/20\n",
            "50000/50000 [==============================] - 32s 641us/step - loss: 0.3486 - acc: 0.8764 - val_loss: 0.4591 - val_acc: 0.8519\n",
            "Epoch: 11\n",
            "Model saved in weights_11.hdf5\n",
            "Epoch 12/20\n",
            "50000/50000 [==============================] - 32s 647us/step - loss: 0.3343 - acc: 0.8814 - val_loss: 0.4844 - val_acc: 0.8500\n",
            "Epoch: 12\n",
            "Model saved in weights_12.hdf5\n",
            "Epoch 13/20\n",
            "50000/50000 [==============================] - 32s 640us/step - loss: 0.3232 - acc: 0.8852 - val_loss: 0.4554 - val_acc: 0.8553\n",
            "Epoch: 13\n",
            "Model saved in weights_13.hdf5\n",
            "Epoch 14/20\n",
            "50000/50000 [==============================] - 32s 643us/step - loss: 0.3128 - acc: 0.8898 - val_loss: 0.4579 - val_acc: 0.8547\n",
            "Epoch: 14\n",
            "Model saved in weights_14.hdf5\n",
            "Epoch 15/20\n",
            "50000/50000 [==============================] - 32s 644us/step - loss: 0.3083 - acc: 0.8901 - val_loss: 0.4713 - val_acc: 0.8533\n",
            "Epoch: 15\n",
            "Model saved in weights_15.hdf5\n",
            "Epoch 16/20\n",
            "50000/50000 [==============================] - 32s 640us/step - loss: 0.2985 - acc: 0.8943 - val_loss: 0.4685 - val_acc: 0.8547\n",
            "Epoch: 16\n",
            "Model saved in weights_16.hdf5\n",
            "Epoch 17/20\n",
            "50000/50000 [==============================] - 32s 638us/step - loss: 0.2907 - acc: 0.8961 - val_loss: 0.4693 - val_acc: 0.8595\n",
            "Epoch: 17\n",
            "Model saved in weights_17.hdf5\n",
            "Epoch 18/20\n",
            "50000/50000 [==============================] - 32s 634us/step - loss: 0.2843 - acc: 0.8980 - val_loss: 0.4633 - val_acc: 0.8573\n",
            "Epoch: 18\n",
            "Model saved in weights_18.hdf5\n",
            "Epoch 19/20\n",
            "50000/50000 [==============================] - 32s 635us/step - loss: 0.2820 - acc: 0.8991 - val_loss: 0.4644 - val_acc: 0.8579\n",
            "Epoch: 19\n",
            "Model saved in weights_19.hdf5\n",
            "Epoch 20/20\n",
            "50000/50000 [==============================] - 32s 631us/step - loss: 0.2761 - acc: 0.9030 - val_loss: 0.4632 - val_acc: 0.8588\n",
            "Epoch: 20\n",
            "Model saved in weights_20.hdf5\n"
          ],
          "name": "stdout"
        }
      ]
    },
    {
      "cell_type": "markdown",
      "metadata": {
        "id": "mYOGsP_pfCIQ",
        "colab_type": "text"
      },
      "source": [
        "Для повышения качества предсказаний я использовал метод увеличения значения Dropout, что приводит в росту точности рпедсказаний, но при этом не получается добится указанной точности, также заменил оптимизатор на SGD with momentum, при нем выходило лучше всего, что и видно если прогнать модель два раз с прошлой двацатой эпохи, то предсказание будет стабильно выдовать val_acc>=0.85\n"
      ]
    }
  ]
}