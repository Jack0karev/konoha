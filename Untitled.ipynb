{
 "cells": [
  {
   "cell_type": "code",
   "execution_count": 52,
   "metadata": {},
   "outputs": [
    {
     "data": {
      "text/plain": [
       "(101, 13)"
      ]
     },
     "execution_count": 52,
     "metadata": {},
     "output_type": "execute_result"
    }
   ],
   "source": [
    "import pyreadstat\n",
    "import pandas as pd\n",
    "\n",
    "df_2010 = pd.read_excel('2010_year.xlsx')\n",
    "\n",
    "df, meta = pyreadstat.read_sav(\"r19i_os_31.sav\")\n",
    "\n",
    "df2010 = df[['om84.7b', 'o_age', 'oh5', 'o_diplom_1', 'oj66.1', 'oj72.172', 'om3','psu']]\n",
    "df2010.columns = ['ml_of_alch', 'age', 'gender', 'education', 'satisfay_wage', 'children', 'health','region']\n",
    "\n",
    "df_na = df2010.dropna()\n",
    "df1 = df_na.merge(df_2010, left_on='region', right_on='value')\n",
    "df1 = df1[df1.ml_of_alch < 9999999]\n",
    "df1 = df1[df1.satisfay_wage < 999999]\n",
    "\n",
    "df1.shape"
   ]
  },
  {
   "cell_type": "code",
   "execution_count": 53,
   "metadata": {},
   "outputs": [
    {
     "data": {
      "text/plain": [
       "(33, 13)"
      ]
     },
     "execution_count": 53,
     "metadata": {},
     "output_type": "execute_result"
    }
   ],
   "source": [
    "df_2018 = pd.read_excel('2018_year.xls')\n",
    "\n",
    "df, meta = pyreadstat.read_sav(\"r27i_os_32.sav\")\n",
    "\n",
    "df2018 = df[['wm84.7b', 'w_age', 'wh5', 'w_diplom', 'wj66.1', 'wj72.172', 'wm3','psu']]\n",
    "df2018.columns = ['ml_of_alch', 'age', 'gender', 'education', 'satisfay_wage', 'children', 'health','region']\n",
    "\n",
    "df_na = df2018.dropna()\n",
    "df2 = df_na.merge(df_2018, left_on='region', right_on='value')\n",
    "df2 = df2[df2.ml_of_alch < 9999999]\n",
    "df2 = df2[df2.satisfay_wage < 999999]\n",
    "df2.shape"
   ]
  },
  {
   "cell_type": "code",
   "execution_count": 54,
   "metadata": {},
   "outputs": [],
   "source": [
    "df1 = df1[['ml_of_alch', 'age', 'gender', 'education', 'satisfay_wage', 'children', 'health','time_close', 'beer', 'konyak']]\n",
    "df2 = df2[['ml_of_alch', 'age', 'gender', 'education', 'satisfay_wage', 'children', 'health','time_close', 'beer', 'konyak']]"
   ]
  },
  {
   "cell_type": "markdown",
   "metadata": {},
   "source": [
    "* education - ЗАКОНЧЕННОЕ ОБРАЗОВАНИЕ (ГРУППА): 1-окончил 0 - 6 классов; ....; 6 - законченное высшее образование и выше\n",
    "* age - Количество полных лет (возраст респондента)\n",
    "* gender -Пол респондента: 1-male 2-female\n",
    "* satisfay_wage - Насколько Вы удовлетворены своим материальным положением в настоящее время? : 1 - Очень хорошее; .. ; 5 - Совсем плохое\n",
    "* children - Сколько всего у Вас детей? \n",
    "* health - Как Вы оцениваете Ваше здоровье. Оно у Вас?: 1 - Очень хорошее; .. ; 5 - Совсем плохое\n",
    "* beer - цена на пиво\n",
    "* konyak - цена на коньяк\n",
    "* time_close - время ограничение продажи алкоголя\n"
   ]
  },
  {
   "cell_type": "markdown",
   "metadata": {},
   "source": [
    "# 2010 year"
   ]
  },
  {
   "cell_type": "markdown",
   "metadata": {},
   "source": [
    " ### OLS ml_of_alch ~ konyak + C(gender)  + C(time_close) + beer"
   ]
  },
  {
   "cell_type": "code",
   "execution_count": 74,
   "metadata": {},
   "outputs": [
    {
     "name": "stdout",
     "output_type": "stream",
     "text": [
      "                            OLS Regression Results                            \n",
      "==============================================================================\n",
      "Dep. Variable:             ml_of_alch   R-squared:                       0.364\n",
      "Model:                            OLS   Adj. R-squared:                  0.278\n",
      "Method:                 Least Squares   F-statistic:                     4.203\n",
      "Date:                Wed, 03 Jun 2020   Prob (F-statistic):           3.31e-05\n",
      "Time:                        16:35:20   Log-Likelihood:                -708.50\n",
      "No. Observations:                 101   AIC:                             1443.\n",
      "Df Residuals:                      88   BIC:                             1477.\n",
      "Df Model:                          12                                         \n",
      "Covariance Type:            nonrobust                                         \n",
      "==================================================================================================\n",
      "                                     coef    std err          t      P>|t|      [0.025      0.975]\n",
      "--------------------------------------------------------------------------------------------------\n",
      "Intercept                        879.5234    503.622      1.746      0.084    -121.319    1880.366\n",
      "C(gender)[T.2.0]                -259.2093     61.434     -4.219      0.000    -381.296    -137.123\n",
      "C(time_close)[T.20:00 - 11:00]   439.1303    232.872      1.886      0.063     -23.654     901.915\n",
      "C(time_close)[T.21:00 - 09:00]   132.2423    235.875      0.561      0.576    -336.510     600.994\n",
      "C(time_close)[T.21:00 - 11:00]    17.2911    289.462      0.060      0.953    -557.953     592.535\n",
      "C(time_close)[T.22:00 - 08:00]    64.7741    245.033      0.264      0.792    -422.177     551.725\n",
      "C(time_close)[T.22:00 - 09:00]    19.3256    230.402      0.084      0.933    -438.550     477.201\n",
      "C(time_close)[T.22:00 - 10:00]   198.4146    206.064      0.963      0.338    -211.093     607.923\n",
      "C(time_close)[T.22:00 - 11:00]   160.5045    209.603      0.766      0.446    -256.037     577.046\n",
      "C(time_close)[T.22:00 - 14:00]   996.2060    342.305      2.910      0.005     315.946    1676.466\n",
      "C(time_close)[T.23:00 - 08:00]   -25.3553    187.554     -0.135      0.893    -398.080     347.369\n",
      "konyak                             0.1320      0.286      0.461      0.646      -0.437       0.701\n",
      "beer                              -9.2108      8.704     -1.058      0.293     -26.507       8.086\n",
      "==============================================================================\n",
      "Omnibus:                       43.448   Durbin-Watson:                   2.293\n",
      "Prob(Omnibus):                  0.000   Jarque-Bera (JB):              103.392\n",
      "Skew:                           1.636   Prob(JB):                     3.54e-23\n",
      "Kurtosis:                       6.723   Cond. No.                     1.82e+04\n",
      "==============================================================================\n",
      "\n",
      "Warnings:\n",
      "[1] Standard Errors assume that the covariance matrix of the errors is correctly specified.\n",
      "[2] The condition number is large, 1.82e+04. This might indicate that there are\n",
      "strong multicollinearity or other numerical problems.\n"
     ]
    }
   ],
   "source": [
    "import numpy as np\n",
    "import statsmodels.formula.api as smf\n",
    "res = smf.ols(formula=\"ml_of_alch ~ konyak + C(gender)  + C(time_close) + beer \", data=df1).fit()\n",
    "print(res.summary())"
   ]
  },
  {
   "cell_type": "markdown",
   "metadata": {},
   "source": [
    " ### Robust ml_of_alch ~ konyak + C(gender)  + C(time_close) + beer"
   ]
  },
  {
   "cell_type": "code",
   "execution_count": 75,
   "metadata": {},
   "outputs": [
    {
     "name": "stdout",
     "output_type": "stream",
     "text": [
      "                    Robust linear Model Regression Results                    \n",
      "==============================================================================\n",
      "Dep. Variable:             ml_of_alch   No. Observations:                  101\n",
      "Model:                            RLM   Df Residuals:                       88\n",
      "Method:                          IRLS   Df Model:                           12\n",
      "Norm:                          HuberT                                         \n",
      "Scale Est.:                       mad                                         \n",
      "Cov Type:                          H1                                         \n",
      "Date:                Wed, 03 Jun 2020                                         \n",
      "Time:                        16:37:12                                         \n",
      "No. Iterations:                    12                                         \n",
      "==================================================================================================\n",
      "                                     coef    std err          z      P>|z|      [0.025      0.975]\n",
      "--------------------------------------------------------------------------------------------------\n",
      "Intercept                        848.3079    339.322      2.500      0.012     183.249    1513.367\n",
      "C(gender)[T.2.0]                -173.1150     41.392     -4.182      0.000    -254.241     -91.989\n",
      "C(time_close)[T.20:00 - 11:00]   137.8079    156.901      0.878      0.380    -169.712     445.328\n",
      "C(time_close)[T.21:00 - 09:00]  -114.1884    158.924     -0.719      0.472    -425.674     197.297\n",
      "C(time_close)[T.21:00 - 11:00]  -139.1101    195.029     -0.713      0.476    -521.359     243.139\n",
      "C(time_close)[T.22:00 - 08:00]   -11.7121    165.094     -0.071      0.943    -335.290     311.866\n",
      "C(time_close)[T.22:00 - 09:00]  -114.3489    155.237     -0.737      0.461    -418.607     189.909\n",
      "C(time_close)[T.22:00 - 10:00]     4.2710    138.838      0.031      0.975    -267.847     276.389\n",
      "C(time_close)[T.22:00 - 11:00]   -38.9182    141.223     -0.276      0.783    -315.710     237.873\n",
      "C(time_close)[T.22:00 - 14:00]   971.4530    230.633      4.212      0.000     519.421    1423.485\n",
      "C(time_close)[T.23:00 - 08:00]  -105.2823    126.367     -0.833      0.405    -352.957     142.393\n",
      "konyak                            -0.1011      0.193     -0.524      0.600      -0.479       0.277\n",
      "beer                              -4.5723      5.864     -0.780      0.436     -16.066       6.921\n",
      "==================================================================================================\n",
      "\n",
      "If the model instance has been used for another fit with different fit\n",
      "parameters, then the fit options might not be the correct ones anymore .\n"
     ]
    }
   ],
   "source": [
    "res = smf.rlm(formula=\"ml_of_alch ~ konyak + C(gender)  + C(time_close) + beer \", data=df1).fit()\n",
    "print(res.summary())"
   ]
  },
  {
   "cell_type": "code",
   "execution_count": null,
   "metadata": {},
   "outputs": [],
   "source": []
  },
  {
   "cell_type": "code",
   "execution_count": null,
   "metadata": {},
   "outputs": [],
   "source": []
  },
  {
   "cell_type": "markdown",
   "metadata": {},
   "source": [
    "# 2018 year"
   ]
  },
  {
   "cell_type": "markdown",
   "metadata": {},
   "source": [
    " ### OLS ml_of_alch ~ konyak + C(gender)  + C(time_close) + beer"
   ]
  },
  {
   "cell_type": "code",
   "execution_count": 76,
   "metadata": {},
   "outputs": [
    {
     "name": "stdout",
     "output_type": "stream",
     "text": [
      "                            OLS Regression Results                            \n",
      "==============================================================================\n",
      "Dep. Variable:             ml_of_alch   R-squared:                       0.425\n",
      "Model:                            OLS   Adj. R-squared:                  0.233\n",
      "Method:                 Least Squares   F-statistic:                     2.216\n",
      "Date:                Wed, 03 Jun 2020   Prob (F-statistic):             0.0631\n",
      "Time:                        16:38:56   Log-Likelihood:                -234.10\n",
      "No. Observations:                  33   AIC:                             486.2\n",
      "Df Residuals:                      24   BIC:                             499.7\n",
      "Df Model:                           8                                         \n",
      "Covariance Type:            nonrobust                                         \n",
      "==================================================================================================\n",
      "                                     coef    std err          t      P>|t|      [0.025      0.975]\n",
      "--------------------------------------------------------------------------------------------------\n",
      "Intercept                       4144.2142   1135.459      3.650      0.001    1800.741    6487.687\n",
      "C(gender)[T.2.0]                -349.4741    136.991     -2.551      0.018    -632.210     -66.738\n",
      "C(time_close)[T.22:00 - 09:00]  -402.5599    293.980     -1.369      0.184   -1009.304     204.185\n",
      "C(time_close)[T.22:00 - 10:00]  -628.0018    274.301     -2.289      0.031   -1194.131     -61.872\n",
      "C(time_close)[T.22:00 - 11:00]  -723.0164    306.239     -2.361      0.027   -1355.063     -90.970\n",
      "C(time_close)[T.22:00 - 14:00]  -891.0408    367.252     -2.426      0.023   -1649.013    -133.069\n",
      "C(time_close)[T.23:00 - 08:00]  -423.5101    257.475     -1.645      0.113    -954.913     107.892\n",
      "konyak                            -1.9100      0.626     -3.050      0.006      -3.202      -0.618\n",
      "beer                              -4.6060      5.506     -0.837      0.411     -15.969       6.757\n",
      "==============================================================================\n",
      "Omnibus:                       10.139   Durbin-Watson:                   2.392\n",
      "Prob(Omnibus):                  0.006   Jarque-Bera (JB):                8.926\n",
      "Skew:                           1.128   Prob(JB):                       0.0115\n",
      "Kurtosis:                       4.182   Cond. No.                     2.65e+04\n",
      "==============================================================================\n",
      "\n",
      "Warnings:\n",
      "[1] Standard Errors assume that the covariance matrix of the errors is correctly specified.\n",
      "[2] The condition number is large, 2.65e+04. This might indicate that there are\n",
      "strong multicollinearity or other numerical problems.\n"
     ]
    }
   ],
   "source": [
    "res = smf.ols(formula=\"ml_of_alch ~ konyak + C(gender)  + C(time_close) + beer \", data=df2).fit()\n",
    "print(res.summary())"
   ]
  },
  {
   "cell_type": "code",
   "execution_count": 77,
   "metadata": {},
   "outputs": [
    {
     "name": "stdout",
     "output_type": "stream",
     "text": [
      "                    Robust linear Model Regression Results                    \n",
      "==============================================================================\n",
      "Dep. Variable:             ml_of_alch   No. Observations:                   33\n",
      "Model:                            RLM   Df Residuals:                       24\n",
      "Method:                          IRLS   Df Model:                            8\n",
      "Norm:                          HuberT                                         \n",
      "Scale Est.:                       mad                                         \n",
      "Cov Type:                          H1                                         \n",
      "Date:                Wed, 03 Jun 2020                                         \n",
      "Time:                        16:41:16                                         \n",
      "No. Iterations:                    50                                         \n",
      "==================================================================================================\n",
      "                                     coef    std err          z      P>|z|      [0.025      0.975]\n",
      "--------------------------------------------------------------------------------------------------\n",
      "Intercept                       3080.1235    926.886      3.323      0.001    1263.461    4896.786\n",
      "C(gender)[T.2.0]                -258.5227    111.827     -2.312      0.021    -477.700     -39.346\n",
      "C(time_close)[T.22:00 - 09:00]  -466.3702    239.978     -1.943      0.052    -936.719       3.979\n",
      "C(time_close)[T.22:00 - 10:00]  -532.1818    223.915     -2.377      0.017    -971.046     -93.317\n",
      "C(time_close)[T.22:00 - 11:00]  -602.0504    249.986     -2.408      0.016   -1092.014    -112.087\n",
      "C(time_close)[T.22:00 - 14:00]  -689.1172    299.792     -2.299      0.022   -1276.698    -101.536\n",
      "C(time_close)[T.23:00 - 08:00]  -368.8899    210.179     -1.755      0.079    -780.834      43.054\n",
      "konyak                            -1.4706      0.511     -2.877      0.004      -2.472      -0.469\n",
      "beer                              -1.7473      4.494     -0.389      0.697     -10.556       7.061\n",
      "==================================================================================================\n",
      "\n",
      "If the model instance has been used for another fit with different fit\n",
      "parameters, then the fit options might not be the correct ones anymore .\n"
     ]
    }
   ],
   "source": [
    "res = smf.rlm(formula=\"ml_of_alch ~ konyak + C(gender)  + C(time_close) + beer \", data=df2).fit()\n",
    "print(res.summary())"
   ]
  },
  {
   "cell_type": "code",
   "execution_count": null,
   "metadata": {},
   "outputs": [],
   "source": []
  },
  {
   "cell_type": "code",
   "execution_count": 80,
   "metadata": {},
   "outputs": [
    {
     "data": {
      "image/png": "[encoded data removed]",
      "text/plain": [
       "<Figure size 432x288 with 1 Axes>"
      ]
     },
     "metadata": {
      "needs_background": "light"
     },
     "output_type": "display_data"
    }
   ],
   "source": [
    "import matplotlib.pyplot as plt\n",
    "plt.scatter(df1.age, df1.ml_of_alch)\n",
    "plt.show()"
   ]
  },
  {
   "cell_type": "code",
   "execution_count": 81,
   "metadata": {},
   "outputs": [
    {
     "data": {
      "image/png": "[encoded data removed]",
      "text/plain": [
       "<Figure size 432x288 with 1 Axes>"
      ]
     },
     "metadata": {
      "needs_background": "light"
     },
     "output_type": "display_data"
    }
   ],
   "source": [
    "plt.scatter(df1.gender, df1.ml_of_alch)\n",
    "plt.show()"
   ]
  },
  {
   "cell_type": "code",
   "execution_count": 82,
   "metadata": {},
   "outputs": [
    {
     "data": {
      "image/png": "[encoded data removed]",
      "text/plain": [
       "<Figure size 432x288 with 1 Axes>"
      ]
     },
     "metadata": {
      "needs_background": "light"
     },
     "output_type": "display_data"
    }
   ],
   "source": [
    "plt.scatter(df1.education, df1.ml_of_alch)\n",
    "plt.show()"
   ]
  },
  {
   "cell_type": "code",
   "execution_count": 83,
   "metadata": {},
   "outputs": [
    {
     "data": {
      "image/png": "[encoded data removed]",
      "text/plain": [
       "<Figure size 432x288 with 1 Axes>"
      ]
     },
     "metadata": {
      "needs_background": "light"
     },
     "output_type": "display_data"
    }
   ],
   "source": [
    "plt.scatter(df1.satisfay_wage, df1.ml_of_alch)\n",
    "plt.show()"
   ]
  },
  {
   "cell_type": "code",
   "execution_count": 84,
   "metadata": {},
   "outputs": [
    {
     "data": {
      "image/png": "[encoded data removed]",
      "text/plain": [
       "<Figure size 432x288 with 1 Axes>"
      ]
     },
     "metadata": {
      "needs_background": "light"
     },
     "output_type": "display_data"
    }
   ],
   "source": [
    "plt.scatter(df1.children, df1.ml_of_alch)\n",
    "plt.show()"
   ]
  },
  {
   "cell_type": "code",
   "execution_count": 85,
   "metadata": {},
   "outputs": [
    {
     "data": {
      "image/png": "[encoded data removed]",
      "text/plain": [
       "<Figure size 432x288 with 1 Axes>"
      ]
     },
     "metadata": {
      "needs_background": "light"
     },
     "output_type": "display_data"
    }
   ],
   "source": [
    "plt.scatter(df1.health, df1.ml_of_alch)\n",
    "plt.show()"
   ]
  },
  {
   "cell_type": "code",
   "execution_count": 86,
   "metadata": {},
   "outputs": [
    {
     "data": {
      "image/png": "[encoded data removed]",
      "text/plain": [
       "<Figure size 432x288 with 1 Axes>"
      ]
     },
     "metadata": {
      "needs_background": "light"
     },
     "output_type": "display_data"
    }
   ],
   "source": [
    "plt.scatter(df1.time_close, df1.ml_of_alch)\n",
    "plt.show()"
   ]
  },
  {
   "cell_type": "code",
   "execution_count": 87,
   "metadata": {},
   "outputs": [
    {
     "data": {
      "image/png": "[encoded data removed]",
      "text/plain": [
       "<Figure size 432x288 with 1 Axes>"
      ]
     },
     "metadata": {
      "needs_background": "light"
     },
     "output_type": "display_data"
    }
   ],
   "source": [
    "plt.scatter(df1.beer, df1.ml_of_alch)\n",
    "plt.show()"
   ]
  },
  {
   "cell_type": "code",
   "execution_count": 88,
   "metadata": {},
   "outputs": [
    {
     "data": {
      "image/png": "[encoded data removed]",
      "text/plain": [
       "<Figure size 432x288 with 1 Axes>"
      ]
     },
     "metadata": {
      "needs_background": "light"
     },
     "output_type": "display_data"
    }
   ],
   "source": [
    "plt.scatter(df1.konyak, df1.ml_of_alch)\n",
    "plt.show()"
   ]
  },
  {
   "cell_type": "code",
   "execution_count": 78,
   "metadata": {},
   "outputs": [
    {
     "data": {
      "text/plain": [
       "Index(['ml_of_alch', 'age', 'gender', 'education', 'satisfay_wage', 'children',\n",
       "       'health', 'time_close', 'beer', 'konyak'],\n",
       "      dtype='object')"
      ]
     },
     "execution_count": 78,
     "metadata": {},
     "output_type": "execute_result"
    }
   ],
   "source": [
    "df1.columns\n"
   ]
  }
 ],
 "metadata": {
  "kernelspec": {
   "display_name": "Python 3",
   "language": "python",
   "name": "python3"
  },
  "language_info": {
   "codemirror_mode": {
    "name": "ipython",
    "version": 3
   },
   "file_extension": ".py",
   "mimetype": "text/x-python",
   "name": "python",
   "nbconvert_exporter": "python",
   "pygments_lexer": "ipython3",
   "version": "3.7.3"
  }
 },
 "nbformat": 4,
 "nbformat_minor": 2
}
