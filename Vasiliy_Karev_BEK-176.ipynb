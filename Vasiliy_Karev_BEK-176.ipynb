{
 "cells": [
  {
   "cell_type": "code",
   "execution_count": 1,
   "metadata": {},
   "outputs": [],
   "source": [
    "import numpy as np"
   ]
  },
  {
   "cell_type": "markdown",
   "metadata": {},
   "source": [
    "# Домашнее задание на повторение numpy\n",
    "В задании все пункты необходимо выполнить с помощью numpy, без использования циклов/map/и тд! \n",
    "\n",
    "Задание выполняется __самостоятельно__. «Похожие» решения считаются плагиатом и все задействованные студенты (в том числе те, __у кого__ списали) не могут получить за него больше 0 баллов.\n",
    "\n",
    "### История\n",
    "\n",
    "В конце каждого семестра каждый семинарист сталкивается с необходимостью выставить студентам накопленную в семестре оценку. Часто семинаристы делают это с помощью Excel или GoogleSheets, но поверьте, с этим возникают проблемы. В задании вам надо помочь семинаристу курса XXX выполнить эту непростую работу с помощью numpy :)\n",
    "\n",
    "Выполните ячейку ниже, чтобы загрузить данные и визуально проверить корректность их считывания.\n",
    "\n",
    "По строкам - студенты, по столбцам - их оценки. В курсе семинарист провел три проверочных (первые три колонки), выдал три домашних работы (следующие три колонки), кроме того, у студентов есть оценка за коллоквиум (последняя колонка)."
   ]
  },
  {
   "cell_type": "code",
   "execution_count": 250,
   "metadata": {},
   "outputs": [],
   "source": [
    "marks = np.loadtxt(\"https://raw.githubusercontent.com/nadiinchi/iad2019/master/materials/data_hw1.txt\")"
   ]
  },
  {
   "cell_type": "code",
   "execution_count": 251,
   "metadata": {},
   "outputs": [
    {
     "data": {
      "text/plain": [
       "array([[ 7. ,  8. , 10. ,  0. ,  0. ,  2.1,  1.5],\n",
       "       [ 0. ,  6. ,  4.4,  4. ,  0. ,  5. ,  4.3],\n",
       "       [ 3. ,  7. ,  8.7,  7.6,  7. ,  9.7, 10. ]])"
      ]
     },
     "execution_count": 251,
     "metadata": {},
     "output_type": "execute_result"
    }
   ],
   "source": [
    "marks[:3]"
   ]
  },
  {
   "cell_type": "markdown",
   "metadata": {},
   "source": [
    "### Число студентов (1 балл)\n",
    "Сколько студентов в группе семинариста?"
   ]
  },
  {
   "cell_type": "code",
   "execution_count": 252,
   "metadata": {},
   "outputs": [],
   "source": [
    "# Записать ответ в переменную num_studs\n",
    "num_studs = np.shape(marks)[0]"
   ]
  },
  {
   "cell_type": "code",
   "execution_count": 253,
   "metadata": {},
   "outputs": [
    {
     "name": "stdout",
     "output_type": "stream",
     "text": [
      "28\n"
     ]
    }
   ],
   "source": [
    "print(num_studs)"
   ]
  },
  {
   "cell_type": "markdown",
   "metadata": {},
   "source": [
    "### Очень сложная проверочная, или просто добрый семинарист (1.5 балла)\n",
    "Семинарист помнит, что первая проверочная получилась очень сложной, и максимальный балл в группе был далеко не 10. Поэтому он решил перенормировать баллы за эту проверочную на максимум по группе (поделить на максимум и умножить на 10) - чтобы у студента с максимальной оценкой получилось 10, а у остальных - просто оценка больше."
   ]
  },
  {
   "cell_type": "markdown",
   "metadata": {},
   "source": [
    "Каков максимальный балл за первую проверочную?"
   ]
  },
  {
   "cell_type": "code",
   "execution_count": 254,
   "metadata": {},
   "outputs": [],
   "source": [
    "# Записать ответ в переменную max_mark\n",
    "max_mark = marks.max(axis=0)[0]"
   ]
  },
  {
   "cell_type": "code",
   "execution_count": 255,
   "metadata": {},
   "outputs": [
    {
     "name": "stdout",
     "output_type": "stream",
     "text": [
      "7.0\n"
     ]
    }
   ],
   "source": [
    "print(max_mark)"
   ]
  },
  {
   "cell_type": "markdown",
   "metadata": {},
   "source": [
    "Разделите первый столбец на max_mark (для этого надо выделить столбец, поставить после соответствующего выражения знак = и присвоить новое значение столбца)"
   ]
  },
  {
   "cell_type": "code",
   "execution_count": 256,
   "metadata": {},
   "outputs": [],
   "source": [
    "marks = marks.T"
   ]
  },
  {
   "cell_type": "code",
   "execution_count": 257,
   "metadata": {},
   "outputs": [],
   "source": [
    "marks[0] = (marks[0] / max_mark) * 10"
   ]
  },
  {
   "cell_type": "code",
   "execution_count": 258,
   "metadata": {},
   "outputs": [
    {
     "data": {
      "text/plain": [
       "array([[10.        ,  8.        , 10.        ,  0.        ,  0.        ,\n",
       "         2.1       ,  1.5       ],\n",
       "       [ 0.        ,  6.        ,  4.4       ,  4.        ,  0.        ,\n",
       "         5.        ,  4.3       ],\n",
       "       [ 4.28571429,  7.        ,  8.7       ,  7.6       ,  7.        ,\n",
       "         9.7       , 10.        ]])"
      ]
     },
     "execution_count": 258,
     "metadata": {},
     "output_type": "execute_result"
    }
   ],
   "source": [
    "marks = marks.T\n",
    "marks[:3]"
   ]
  },
  {
   "cell_type": "markdown",
   "metadata": {},
   "source": [
    "### Подсчет накопленной оценки (1.5 балла)\n",
    "Для вычисления накопленной надо посчитать средние оценки за проверочные для каждого студента и средние за домашние работы (может пригодиться np.mean). Накопленная оценка есть 0.3\\*Проверочные + 0.4\\*Домашние + 0.3\\*Коллоквиум. Вычислите накопленные оценки и добавьте их в последний столбец матрицы (нужно добавить еще один новый столбец)."
   ]
  },
  {
   "cell_type": "code",
   "execution_count": 259,
   "metadata": {},
   "outputs": [],
   "source": [
    "# Веса следует брать из переменной weights, а не вписывать вручную\n",
    "weights = np.array([0.3, 0.4, 0.3])"
   ]
  },
  {
   "cell_type": "code",
   "execution_count": 260,
   "metadata": {},
   "outputs": [],
   "source": [
    "tests = marks[:, 0:3]\n",
    "hw = marks[:, 3:6]\n",
    "coll = marks[:, 6:]"
   ]
  },
  {
   "cell_type": "code",
   "execution_count": 261,
   "metadata": {},
   "outputs": [],
   "source": [
    "tests = (np.sum(tests, axis=1)) / 3\n",
    "hw = (np.sum(hw, axis=1)) / 3"
   ]
  },
  {
   "cell_type": "code",
   "execution_count": 262,
   "metadata": {},
   "outputs": [
    {
     "data": {
      "text/plain": [
       "array([[10.        ,  8.        , 10.        ,  0.        ,  0.        ,\n",
       "         2.1       ,  1.5       ,  3.53      ],\n",
       "       [ 0.        ,  6.        ,  4.4       ,  4.        ,  0.        ,\n",
       "         5.        ,  4.3       ,  3.53      ],\n",
       "       [ 4.28571429,  7.        ,  8.7       ,  7.6       ,  7.        ,\n",
       "         9.7       , 10.        ,  8.23857143]])"
      ]
     },
     "execution_count": 262,
     "metadata": {},
     "output_type": "execute_result"
    }
   ],
   "source": [
    "tests = tests[:, np.newaxis]\n",
    "hw = hw[:, np.newaxis]\n",
    "nakop = np.hstack((np.hstack((tests, hw)), coll))\n",
    "nakop = np.dot(nakop, weights[:, np.newaxis])\n",
    "nakop[:4]\n",
    "marks = np.hstack((marks, nakop))\n",
    "marks[:3]"
   ]
  },
  {
   "cell_type": "markdown",
   "metadata": {},
   "source": [
    "### Студенты, которых, вероятно, отчислят (1.5 балла)"
   ]
  },
  {
   "cell_type": "markdown",
   "metadata": {},
   "source": [
    "Сколько в группе студентов с накопленной оценкой 0? Вам может понадобиться тот факт, что применение np.sum к бинарному вектору дает число значений True в нем, например:"
   ]
  },
  {
   "cell_type": "code",
   "execution_count": 263,
   "metadata": {},
   "outputs": [
    {
     "data": {
      "text/plain": [
       "2"
      ]
     },
     "execution_count": 263,
     "metadata": {},
     "output_type": "execute_result"
    }
   ],
   "source": [
    "np.sum([True, False, True]) # 2 значения True"
   ]
  },
  {
   "cell_type": "markdown",
   "metadata": {
    "collapsed": true
   },
   "source": [
    "Также обратим внимание на операцию поэлементного сравнения, возвращающую массив из True и False:"
   ]
  },
  {
   "cell_type": "code",
   "execution_count": 264,
   "metadata": {},
   "outputs": [
    {
     "name": "stdout",
     "output_type": "stream",
     "text": [
      "[False False  True]\n",
      "[False False False]\n"
     ]
    }
   ],
   "source": [
    "a = np.array([1, 2, 3])\n",
    "b = np.array([2, 3, 3])\n",
    "print(a == b)\n",
    "print(a > b)"
   ]
  },
  {
   "cell_type": "code",
   "execution_count": 265,
   "metadata": {},
   "outputs": [],
   "source": [
    "zeros = np.zeros((np.shape(marks)[0], 1), dtype = float)"
   ]
  },
  {
   "cell_type": "code",
   "execution_count": 266,
   "metadata": {},
   "outputs": [],
   "source": [
    "zeros = marks[:, -1][:, np.newaxis] == zeros"
   ]
  },
  {
   "cell_type": "code",
   "execution_count": 267,
   "metadata": {},
   "outputs": [
    {
     "name": "stdout",
     "output_type": "stream",
     "text": [
      "3\n"
     ]
    }
   ],
   "source": [
    "print(np.sum(zeros))"
   ]
  },
  {
   "cell_type": "markdown",
   "metadata": {},
   "source": [
    "### Студенты, которые получат автоматы (1.5 балла)\n",
    "Автомат получат студенты, у которых накопленная оценка больше 7. Добавьте еще один столбец - в нем стоит 1, если студент получает автомат, и 0 иначе."
   ]
  },
  {
   "cell_type": "code",
   "execution_count": 268,
   "metadata": {},
   "outputs": [],
   "source": [
    "sevens = np.full((np.shape(marks)[0], 1), 7, dtype = float)"
   ]
  },
  {
   "cell_type": "code",
   "execution_count": 269,
   "metadata": {},
   "outputs": [],
   "source": [
    "sevens = marks[:, -1][:, np.newaxis] > sevens"
   ]
  },
  {
   "cell_type": "code",
   "execution_count": 270,
   "metadata": {},
   "outputs": [
    {
     "name": "stdout",
     "output_type": "stream",
     "text": [
      "[0. 0. 1. 0. 0. 1. 1. 0. 1. 1. 0. 1. 0. 1. 1. 0. 1. 0. 0. 0. 0. 1. 1. 1.\n",
      " 0. 0. 1. 1.]\n"
     ]
    }
   ],
   "source": [
    "marks = np.hstack((marks, sevens))\n",
    "print(marks[:, 8])"
   ]
  },
  {
   "cell_type": "markdown",
   "metadata": {},
   "source": [
    "### Студенты, которые будут освобождены от задач на экзамене (1.5 балла)\n",
    "Семинарист решил, что первая половина группы в рейтинге по накопленной оценке будет освобождена от решения задач на экзамене. Выделите этих студентов в отдельный массив. Для этого надо отсортировать строки массива (np.sort) и взять первую половину."
   ]
  },
  {
   "cell_type": "code",
   "execution_count": 271,
   "metadata": {},
   "outputs": [],
   "source": [
    "automats = marks[marks[:,7].argsort()]"
   ]
  },
  {
   "cell_type": "code",
   "execution_count": 272,
   "metadata": {},
   "outputs": [],
   "source": [
    "automats = automats[::-1]"
   ]
  },
  {
   "cell_type": "code",
   "execution_count": 273,
   "metadata": {},
   "outputs": [
    {
     "name": "stdout",
     "output_type": "stream",
     "text": [
      "[[10.         10.         10.          9.7        10.         10.\n",
      "  10.          9.96        1.        ]\n",
      " [ 9.28571429  8.7         9.5        10.5         9.8        10.\n",
      "  10.          9.78857143  1.        ]\n",
      " [10.          9.7        10.          8.1        10.         10.\n",
      "   9.5         9.56666667  1.        ]\n",
      " [ 7.14285714 10.         10.          9.9        10.5        10.\n",
      "   9.          9.46761905  1.        ]\n",
      " [ 5.71428571 10.         10.          9.9         9.7        10.\n",
      "   9.          9.21809524  1.        ]\n",
      " [10.         10.         10.          9.          9.5        10.\n",
      "   8.          9.2         1.        ]\n",
      " [ 4.28571429  8.7        10.          9.4        10.7        10.\n",
      "   9.          9.01190476  1.        ]\n",
      " [ 8.57142857 10.          9.7         8.7         7.          8.5\n",
      "   9.7         8.96380952  1.        ]\n",
      " [ 5.          9.3        10.          9.9        10.         10.\n",
      "   8.          8.81666667  1.        ]\n",
      " [ 8.57142857  5.         10.          9.7        10.         10.\n",
      "   8.          8.71714286  1.        ]\n",
      " [ 7.14285714 10.          9.          7.          7.9        10.\n",
      "   9.          8.63428571  1.        ]\n",
      " [ 0.          8.7         8.          9.7        10.          9.5\n",
      "  10.          8.56333333  1.        ]\n",
      " [ 8.57142857 10.         10.          9.7         7.         10.\n",
      "   7.          8.51714286  1.        ]\n",
      " [ 4.28571429  7.          8.7         7.6         7.          9.7\n",
      "  10.          8.23857143  1.        ]]\n"
     ]
    }
   ],
   "source": [
    "automats = automats[:14]\n",
    "print(automats)"
   ]
  },
  {
   "cell_type": "markdown",
   "metadata": {},
   "source": [
    "### Сложность заданий (1.5 балла)\n",
    "Наконец, семинарист хочет оценить сложность заданий, проверочных и коллоквиума по своей особой системе. Он присвоил каждому студенту вес (веса суммируются в 1) и хочет посчитать для каждого задания, проверочной и коллоквиума среднюю оценку с весами.\n",
    "Пример, что имеется в виду: если есть 4 студента с весами [0.1, 0.2, 0.3, 0.4] и оценками [3, 7, 9, 10], то средняя оценка за задание с весами получится "
   ]
  },
  {
   "cell_type": "code",
   "execution_count": 246,
   "metadata": {},
   "outputs": [
    {
     "data": {
      "text/plain": [
       "8.4"
      ]
     },
     "execution_count": 246,
     "metadata": {},
     "output_type": "execute_result"
    }
   ],
   "source": [
    "0.1 * 3 + 0.2 * 7 + 0.3 * 9 + 0.4 * 10 "
   ]
  },
  {
   "cell_type": "markdown",
   "metadata": {},
   "source": [
    "Веса:"
   ]
  },
  {
   "cell_type": "code",
   "execution_count": 274,
   "metadata": {},
   "outputs": [
    {
     "name": "stdout",
     "output_type": "stream",
     "text": [
      "[0.01315789 0.01315789 0.01315789 0.01315789 0.01315789 0.01315789\n",
      " 0.01315789 0.02631579 0.02631579 0.02631579 0.02631579 0.03947368\n",
      " 0.03947368 0.03947368 0.03947368 0.03947368 0.03947368 0.03947368\n",
      " 0.05263158 0.05263158 0.05263158 0.05263158 0.05263158 0.05263158\n",
      " 0.05263158 0.05263158 0.05263158 0.05263158]\n"
     ]
    }
   ],
   "source": [
    "weights = np.array([1.]*7+[2.]*4+[3.]*7+[4.]*(marks.shape[0]-18))\n",
    "\n",
    "# разделите веса на их сумму, чтобы они суммировались к 1\n",
    "weights = weights / np.sum(weights)\n",
    "print(weights)"
   ]
  },
  {
   "cell_type": "markdown",
   "metadata": {},
   "source": [
    "Посчитайте указанным образом сложность каждого \"столбца\"."
   ]
  },
  {
   "cell_type": "code",
   "execution_count": 275,
   "metadata": {},
   "outputs": [
    {
     "name": "stdout",
     "output_type": "stream",
     "text": [
      "[4.90037594]\n"
     ]
    }
   ],
   "source": [
    "firstT = np.dot(marks[:, 0], weights[:, np.newaxis])\n",
    "print(firstT)"
   ]
  },
  {
   "cell_type": "code",
   "execution_count": 276,
   "metadata": {},
   "outputs": [
    {
     "name": "stdout",
     "output_type": "stream",
     "text": [
      "[7.11973684]\n"
     ]
    }
   ],
   "source": [
    "secondT = np.dot(marks[:, 1], weights[:, np.newaxis])\n",
    "print(secondT)"
   ]
  },
  {
   "cell_type": "code",
   "execution_count": 277,
   "metadata": {},
   "outputs": [
    {
     "name": "stdout",
     "output_type": "stream",
     "text": [
      "[7.85789474]\n"
     ]
    }
   ],
   "source": [
    "thirdT = np.dot(marks[:, 2], weights[:, np.newaxis])\n",
    "print(thirdT)"
   ]
  },
  {
   "cell_type": "code",
   "execution_count": 278,
   "metadata": {},
   "outputs": [
    {
     "name": "stdout",
     "output_type": "stream",
     "text": [
      "[4.87368421]\n"
     ]
    }
   ],
   "source": [
    "coll = np.dot(marks[:, 6], weights[:, np.newaxis])\n",
    "print(coll)"
   ]
  },
  {
   "cell_type": "code",
   "execution_count": null,
   "metadata": {},
   "outputs": [],
   "source": []
  }
 ],
 "metadata": {
  "kernelspec": {
   "display_name": "Python 2",
   "language": "python",
   "name": "python2"
  },
  "language_info": {
   "codemirror_mode": {
    "name": "ipython",
    "version": 2
   },
   "file_extension": ".py",
   "mimetype": "text/x-python",
   "name": "python",
   "nbconvert_exporter": "python",
   "pygments_lexer": "ipython2",
   "version": "2.7.6"
  }
 },
 "nbformat": 4,
 "nbformat_minor": 2
}
