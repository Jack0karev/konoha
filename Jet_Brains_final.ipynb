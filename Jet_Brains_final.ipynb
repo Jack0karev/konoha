{
  "nbformat": 4,
  "nbformat_minor": 0,
  "metadata": {
    "colab": {
      "name": "Jet_Brains12.ipynb",
      "provenance": [],
      "machine_shape": "hm",
      "include_colab_link": true
    },
    "kernelspec": {
      "name": "python3",
      "display_name": "Python 3"
    },
    "language_info": {
      "codemirror_mode": {
        "name": "ipython",
        "version": 3
      },
      "file_extension": ".py",
      "mimetype": "text/x-python",
      "name": "python",
      "nbconvert_exporter": "python",
      "pygments_lexer": "ipython3",
      "version": "3.7.3"
    },
    "accelerator": "GPU"
  },
  "cells": [
    {
      "cell_type": "markdown",
      "metadata": {
        "id": "view-in-github",
        "colab_type": "text"
      },
      "source": [
        "<a href=\"https://colab.research.google.com/github/Jack0karev/konoha/blob/master/Jet_Brains_final.ipynb\" target=\"_parent\"><img src=\"https://colab.research.google.com/assets/colab-badge.svg\" alt=\"Open In Colab\"/></a>"
      ]
    },
    {
      "cell_type": "code",
      "metadata": {
        "colab_type": "code",
        "id": "-JmZy3cS35m3",
        "colab": {}
      },
      "source": [
        "!pip install -U -q kaggle\n",
        "!mkdir -p ~/.kaggle"
      ],
      "execution_count": 0,
      "outputs": []
    },
    {
      "cell_type": "code",
      "metadata": {
        "colab_type": "code",
        "id": "u_oAk4Nf4I1k",
        "colab": {}
      },
      "source": [
        "from google.colab import files\n",
        "files.upload()"
      ],
      "execution_count": 0,
      "outputs": []
    },
    {
      "cell_type": "code",
      "metadata": {
        "colab_type": "code",
        "id": "7VaCF96K5I-4",
        "colab": {}
      },
      "source": [
        "!cp kaggle.json  ~/.kaggle/"
      ],
      "execution_count": 0,
      "outputs": []
    },
    {
      "cell_type": "code",
      "metadata": {
        "colab_type": "code",
        "id": "mNjrgo0O4W8K",
        "colab": {}
      },
      "source": [
        "!kaggle datasets download -d ehallmar/reddit-comment-score-prediction\n",
        "!ls"
      ],
      "execution_count": 0,
      "outputs": []
    },
    {
      "cell_type": "code",
      "metadata": {
        "colab_type": "code",
        "id": "kIE5AZj-5KrQ",
        "colab": {}
      },
      "source": [
        "!unzip reddit-comment-score-prediction.zip"
      ],
      "execution_count": 0,
      "outputs": []
    },
    {
      "cell_type": "code",
      "metadata": {
        "colab_type": "code",
        "id": "WpoEtFCI5c9I",
        "colab": {}
      },
      "source": [
        "\n",
        "import numpy as np\n",
        "import pandas as pd\n",
        "from sklearn.model_selection import train_test_split\n",
        "from sklearn.metrics import mean_squared_error\n",
        "\n",
        "SEED = 43\n",
        "np.random.seed(SEED)"
      ],
      "execution_count": 0,
      "outputs": []
    },
    {
      "cell_type": "code",
      "metadata": {
        "colab_type": "code",
        "id": "hxf3G8Is5uQD",
        "colab": {}
      },
      "source": [
        "columns = [\"text\", \"parent_text\", \"score\"]\n",
        "df = pd.concat([\n",
        "    pd.read_csv(\"comments_positive.csv\", usecols=columns, na_filter=False),\n",
        "    pd.read_csv(\"comments_negative.csv\", usecols=columns, na_filter=False)\n",
        "], ignore_index=True)"
      ],
      "execution_count": 0,
      "outputs": []
    },
    {
      "cell_type": "code",
      "metadata": {
        "colab_type": "code",
        "id": "Fo9eRY-B5xac",
        "colab": {}
      },
      "source": [
        "y = df['score']\n",
        "df.drop(columns='score', inplace=True)\n",
        "X = df"
      ],
      "execution_count": 0,
      "outputs": []
    },
    {
      "cell_type": "code",
      "metadata": {
        "colab_type": "code",
        "id": "8R9VCZ5fAMFm",
        "colab": {}
      },
      "source": [
        "X.head()"
      ],
      "execution_count": 0,
      "outputs": []
    },
    {
      "cell_type": "code",
      "metadata": {
        "colab_type": "code",
        "id": "k6CgkFl-BNcN",
        "colab": {}
      },
      "source": [
        "cols = ['text', 'parent_text']\n",
        "X['combined'] = X[cols].apply(lambda row: ' '.join(row.values.astype(str)), axis=1)"
      ],
      "execution_count": 0,
      "outputs": []
    },
    {
      "cell_type": "code",
      "metadata": {
        "colab_type": "code",
        "id": "4ecL8Vf4ByHB",
        "colab": {}
      },
      "source": [
        "X_total = X.combined"
      ],
      "execution_count": 0,
      "outputs": []
    },
    {
      "cell_type": "code",
      "metadata": {
        "colab_type": "code",
        "id": "bvul8aNk52gD",
        "colab": {}
      },
      "source": [
        "X_train, X_test, y_train, y_test = train_test_split(X_total, y, test_size=0.05, random_state=SEED)\n",
        "\n",
        "# To be sure we don't use indices to predict something\n",
        "X_train.reset_index(drop=True, inplace=True)\n",
        "X_test.reset_index(drop=True, inplace=True)\n",
        "y_train.reset_index(drop=True, inplace=True)\n",
        "y_test.reset_index(drop=True, inplace=True)\n",
        "\n",
        "print(\"Train shape: {}\".format(X_train.shape))\n",
        "print(\"Test shape: {}\".format(X_test.shape))"
      ],
      "execution_count": 0,
      "outputs": []
    },
    {
      "cell_type": "markdown",
      "metadata": {
        "colab_type": "text",
        "id": "aqLVhU1L6SKN"
      },
      "source": [
        "# Check"
      ]
    },
    {
      "cell_type": "code",
      "metadata": {
        "colab_type": "code",
        "id": "RTa5OfAd566p",
        "colab": {}
      },
      "source": [
        "y_pred = np.full(y_test.shape, y_train.mean())\n"
      ],
      "execution_count": 0,
      "outputs": []
    },
    {
      "cell_type": "code",
      "metadata": {
        "colab_type": "code",
        "id": "-kf-P1CM59Zu",
        "colab": {}
      },
      "source": [
        "mean_squared_error(y_test, y_pred)\n"
      ],
      "execution_count": 0,
      "outputs": []
    },
    {
      "cell_type": "markdown",
      "metadata": {
        "colab_type": "text",
        "id": "PKzsCxqU6VON"
      },
      "source": [
        "# Code"
      ]
    },
    {
      "cell_type": "code",
      "metadata": {
        "colab_type": "code",
        "id": "uh8yVNZ8IKH8",
        "colab": {}
      },
      "source": [
        "X_train = X_train[:1600000]"
      ],
      "execution_count": 0,
      "outputs": []
    },
    {
      "cell_type": "code",
      "metadata": {
        "colab_type": "code",
        "id": "JBz4aBrN7ZMZ",
        "colab": {}
      },
      "source": [
        "import string\n",
        "import re\n",
        "\n",
        "\n",
        "from IPython.display import Image\n",
        "from IPython.core.display import HTML \n",
        "\n",
        "from sklearn.feature_extraction.text import TfidfVectorizer\n",
        "from sklearn.linear_model import LogisticRegression\n",
        "from sklearn.metrics import roc_auc_score"
      ],
      "execution_count": 0,
      "outputs": []
    },
    {
      "cell_type": "code",
      "metadata": {
        "colab_type": "code",
        "id": "GKFk5FvNCSfw",
        "colab": {}
      },
      "source": [
        "def delete_punctuation(x):\n",
        "    punctuation = list(string.punctuation)\n",
        "    return ''.join([a if a not in punctuation + ['\\n'] else ' ' for a in x])"
      ],
      "execution_count": 0,
      "outputs": []
    },
    {
      "cell_type": "code",
      "metadata": {
        "colab_type": "code",
        "id": "1gIM-_bgCTqK",
        "colab": {}
      },
      "source": [
        "# приведение всех слов к нижнему регистру\n",
        "X_train = X_train.apply(lambda x: x.lower())\n",
        "X_test = X_test.apply(lambda x: x.lower())\n",
        "# удаление пунктуации\n",
        "X_train = X_train.apply(delete_punctuation)\n",
        "X_test = X_test.apply(delete_punctuation)"
      ],
      "execution_count": 0,
      "outputs": []
    },
    {
      "cell_type": "code",
      "metadata": {
        "colab_type": "code",
        "id": "6lcAO6S_Cpmq",
        "colab": {}
      },
      "source": [
        "!wget http://nlp.stanford.edu/data/wordvecs/glove.42B.300d.zip"
      ],
      "execution_count": 0,
      "outputs": []
    },
    {
      "cell_type": "code",
      "metadata": {
        "colab_type": "code",
        "id": "ANZUb75-EEhn",
        "colab": {}
      },
      "source": [
        "!pip install tensorflow-gpu==1.15\n",
        "from keras.layers import Dense, Input, GRU, Embedding, Dropout, Bidirectional\n",
        "from keras.models import Model, Sequential\n",
        "from keras.optimizers import Adam\n",
        "from keras.preprocessing.text import Tokenizer\n",
        "from keras.preprocessing.sequence import pad_sequences\n",
        "from keras.callbacks import EarlyStopping, ReduceLROnPlateau, ModelCheckpoint, LearningRateScheduler\n",
        "from tqdm import tqdm_notebook"
      ],
      "execution_count": 0,
      "outputs": []
    },
    {
      "cell_type": "code",
      "metadata": {
        "colab_type": "code",
        "id": "pPN_5NdJEEkx",
        "colab": {}
      },
      "source": [
        "import os, zipfile\n",
        "file_name = os.path.abspath('./glove.42B.300d.zip') # get full path of files\n",
        "zip_ref = zipfile.ZipFile(file_name) # create zipfile object\n",
        "zip_ref.extractall('./') # extract file to dir\n",
        "zip_ref.close() # close file\n",
        "os.remove(file_name) # delete zipped file"
      ],
      "execution_count": 0,
      "outputs": []
    },
    {
      "cell_type": "code",
      "metadata": {
        "colab_type": "code",
        "id": "S07gRCKFEEoC",
        "colab": {}
      },
      "source": [
        "f = open('./glove.42B.300d.txt')\n",
        "\n",
        "embeddings_index = dict() \n",
        "for line in tqdm_notebook(f):\n",
        "    values = line.split(' ')\n",
        "    word = values[0]\n",
        "    coefs = np.asarray(values[1:], dtype='float32')\n",
        "    embeddings_index[word] = coefs\n",
        "f.close()"
      ],
      "execution_count": 0,
      "outputs": []
    },
    {
      "cell_type": "code",
      "metadata": {
        "colab_type": "code",
        "id": "bZWumLsGEE19",
        "colab": {}
      },
      "source": [
        "embed_size = 300 # how big is each word vector\n",
        "max_features = 100000 # how many unique words to use (i.e num rows in embedding vector)\n",
        "maxlen = 150 # max number of words in a comment to use\n",
        "\n",
        "list_sentences_train = X_train.values\n",
        "y = y_train.values\n",
        "list_sentences_test = X_test.values\n",
        "\n",
        "tokenizer = Tokenizer(num_words=max_features)\n",
        "tokenizer.fit_on_texts(list(list_sentences_train))\n",
        "list_tokenized_train = tokenizer.texts_to_sequences(list_sentences_train)\n",
        "list_tokenized_test = tokenizer.texts_to_sequences(list_sentences_test)\n",
        "x_train_pad = pad_sequences(list_tokenized_train, maxlen=maxlen)\n",
        "x_test_pad = pad_sequences(list_tokenized_test, maxlen=maxlen)"
      ],
      "execution_count": 0,
      "outputs": []
    },
    {
      "cell_type": "code",
      "metadata": {
        "colab_type": "code",
        "id": "uCZA1aKZEEzy",
        "colab": {}
      },
      "source": [
        "all_embs = np.stack(embeddings_index.values())\n",
        "emb_mean, emb_std = all_embs.mean(), all_embs.std()\n",
        "emb_mean, emb_std"
      ],
      "execution_count": 0,
      "outputs": []
    },
    {
      "cell_type": "code",
      "metadata": {
        "colab_type": "code",
        "id": "p4DctaPdEExl",
        "colab": {}
      },
      "source": [
        "word_index = tokenizer.word_index\n",
        "unknown_words = set()\n",
        "nb_words = min(max_features, len(word_index))\n",
        "embedding_matrix = np.random.normal(emb_mean, emb_std, (nb_words, embed_size))\n",
        "for word, i in word_index.items():\n",
        "    if i >= max_features: continue\n",
        "    embedding_vector = embeddings_index.get(word)\n",
        "    if embedding_vector is not None: embedding_matrix[i] = embedding_vector\n",
        "    else: unknown_words.add(word)"
      ],
      "execution_count": 0,
      "outputs": []
    },
    {
      "cell_type": "code",
      "metadata": {
        "colab_type": "code",
        "id": "SlfV2CvTEEvQ",
        "colab": {}
      },
      "source": [
        "input_layer = Input((maxlen,), name = 'comment_text')\n",
        "embedding_layer = Embedding(max_features, embed_size, input_length=maxlen, \n",
        "                            weights=[embedding_matrix], \n",
        "                            trainable = False)(input_layer)\n",
        "x = Bidirectional(GRU(128, return_sequences=True))(embedding_layer)\n",
        "x = Dropout(0.3)(x)\n",
        "x = Bidirectional(GRU(128, return_sequences=False))(x)\n",
        "x = Dense(64, activation=\"linear\")(x)\n",
        "output_layer = Dense(1, activation=\"linear\")(x)\n",
        "\n",
        "model = Model(inputs=input_layer, outputs=output_layer)\n",
        "model.compile(loss='mean_squared_error',\n",
        "                  optimizer=Adam(clipvalue=1, clipnorm=1),\n",
        "                  metrics=['accuracy'])\n",
        "print(model.summary())\n",
        "\n",
        "def schedule(ind):\n",
        "    a = [0.001, 0.001, 0.0001, 0.0001, 0.00001, 0.00001, 0.000001]\n",
        "    return a[ind]\n",
        "\n",
        "lr = LearningRateScheduler(schedule)\n",
        "    \n",
        "early_stop = EarlyStopping(monitor='val_loss',\n",
        "                           patience=4,\n",
        "                           verbose=1,\n",
        "                           min_delta=1e-4)\n",
        "\n",
        "\n",
        "history = model.fit(x_train_pad, y[:1600000], batch_size=256, epochs = 5, \n",
        "                    validation_split = 0.1, verbose = 1, callbacks = [lr])"
      ],
      "execution_count": 0,
      "outputs": []
    },
    {
      "cell_type": "code",
      "metadata": {
        "colab_type": "code",
        "id": "6UlB987PEErE",
        "colab": {}
      },
      "source": [
        "predict = model.predict(x_test_pad)"
      ],
      "execution_count": 0,
      "outputs": []
    },
    {
      "cell_type": "code",
      "metadata": {
        "colab_type": "code",
        "id": "oVQFW89q6d23",
        "colab": {}
      },
      "source": [
        "mean_squared_error(y_test, predict)"
      ],
      "execution_count": 0,
      "outputs": []
    }
  ]
}