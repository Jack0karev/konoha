{
  "nbformat": 4,
  "nbformat_minor": 0,
  "metadata": {
    "colab": {
      "name": "Китайские_эроглифы_дз",
      "provenance": [],
      "private_outputs": true,
      "include_colab_link": true
    },
    "kernelspec": {
      "name": "python3",
      "display_name": "Python 3"
    },
    "accelerator": "GPU"
  },
  "cells": [
    {
      "cell_type": "markdown",
      "metadata": {
        "id": "view-in-github",
        "colab_type": "text"
      },
      "source": [
        "<a href=\"https://colab.research.google.com/github/Jack0karev/konoha/blob/master/%D0%9A%D0%B8%D1%82%D0%B0%D0%B9%D1%81%D0%BA%D0%B8%D0%B5_%D1%8D%D1%80%D0%BE%D0%B3%D0%BB%D0%B8%D1%84%D1%8B_%D0%B4%D0%B7.ipynb\" target=\"_parent\"><img src=\"https://colab.research.google.com/assets/colab-badge.svg\" alt=\"Open In Colab\"/></a>"
      ]
    },
    {
      "cell_type": "code",
      "metadata": {
        "id": "1P4Y7RrYSabe",
        "colab_type": "code",
        "colab": {}
      },
      "source": [
        "!pip install -U -q kaggle\n",
        "!mkdir -p ~/.kaggle"
      ],
      "execution_count": 0,
      "outputs": []
    },
    {
      "cell_type": "code",
      "metadata": {
        "id": "6Bx1w9nuSf-j",
        "colab_type": "code",
        "colab": {}
      },
      "source": [
        "from google.colab import files\n",
        "files.upload()"
      ],
      "execution_count": 0,
      "outputs": []
    },
    {
      "cell_type": "code",
      "metadata": {
        "id": "TaUoTsToSgMb",
        "colab_type": "code",
        "colab": {}
      },
      "source": [
        "!cp kaggle.json  ~/.kaggle/"
      ],
      "execution_count": 0,
      "outputs": []
    },
    {
      "cell_type": "code",
      "metadata": {
        "id": "HZRe3ACNSgXl",
        "colab_type": "code",
        "colab": {}
      },
      "source": [
        "!kaggle competitions download -c chinese-char-recognition-smmo19\n",
        "!ls"
      ],
      "execution_count": 0,
      "outputs": []
    },
    {
      "cell_type": "code",
      "metadata": {
        "id": "63QqOUj5SgVh",
        "colab_type": "code",
        "colab": {}
      },
      "source": [
        "!unzip train-1.npy.zip  train-1.npy\n",
        "!unzip train-2.npy.zip  train-2.npy\n",
        "!unzip train-3.npy.zip  train-3.npy\n",
        "!unzip train-4.npy.zip  train-4.npy"
      ],
      "execution_count": 0,
      "outputs": []
    },
    {
      "cell_type": "code",
      "metadata": {
        "id": "ztEAnCetSgTA",
        "colab_type": "code",
        "colab": {}
      },
      "source": [
        "import numpy as np\n",
        "import pandas as pd\n",
        "train_1 = np.load('train-1.npy', allow_pickle=True)\n",
        "train_2 = np.load('train-2.npy', allow_pickle=True)\n",
        "train_3 = np.load('train-3.npy', allow_pickle=True)\n",
        "train_4 = np.load('train-4.npy', allow_pickle=True)\n",
        "train = np.concatenate((train_1, train_2, train_3, train_4), axis=0)\n",
        "train, labels = train[:, 0], train[:, 1]"
      ],
      "execution_count": 0,
      "outputs": []
    },
    {
      "cell_type": "code",
      "metadata": {
        "id": "mz7C8iIk53Ch",
        "colab_type": "code",
        "colab": {}
      },
      "source": [
        "from skimage.transform import resize\n",
        "for i in range(train.shape[0]):\n",
        "  train[i] = resize(train[i], (32, 32), anti_aliasing=True)\n"
      ],
      "execution_count": 0,
      "outputs": []
    },
    {
      "cell_type": "code",
      "metadata": {
        "id": "XBm3QM5J6o4T",
        "colab_type": "code",
        "colab": {}
      },
      "source": [
        "import matplotlib.pyplot as plt\n",
        "fig,ax=plt.subplots(5,10)\n",
        "for i in range(5):\n",
        "    for j in range(10):\n",
        "        ax[i][j].imshow(train[np.random.randint(0,train.shape[0])],cmap=plt.cm.binary)\n",
        "        ax[i][j].axis('off')\n",
        "plt.subplots_adjust(wspace=0, hspace=0)        \n",
        "fig.set_figwidth(16)\n",
        "fig.set_figheight(8)\n",
        "fig.show()"
      ],
      "execution_count": 0,
      "outputs": []
    },
    {
      "cell_type": "code",
      "metadata": {
        "id": "rAWQqG_MSgF6",
        "colab_type": "code",
        "colab": {}
      },
      "source": [
        "y_train = labels.reshape(1, labels.shape[0])\n",
        "y_train = pd.get_dummies(y_train[0]).to_numpy()\n",
        "new = []\n",
        "for i in train:\n",
        "  new.append(i)\n",
        "x_train = np.asarray(new)\n",
        "x_train = x_train.reshape(train.shape[0],32, 32, 1)"
      ],
      "execution_count": 0,
      "outputs": []
    },
    {
      "cell_type": "code",
      "metadata": {
        "id": "X__9nzsKW0QR",
        "colab_type": "code",
        "colab": {}
      },
      "source": [
        "columns_names = pd.get_dummies(labels).columns"
      ],
      "execution_count": 0,
      "outputs": []
    },
    {
      "cell_type": "code",
      "metadata": {
        "id": "_fNYKfinW0Nu",
        "colab_type": "code",
        "colab": {}
      },
      "source": [
        "from keras.models import Sequential\n",
        "from keras.layers import Dense, Activation, BatchNormalization, Flatten, Conv2D\n",
        "from keras.layers import Dropout, MaxPool2D\n",
        "from keras.models import Model\n",
        "from keras.layers.convolutional import MaxPooling2D\n",
        "from keras.layers.advanced_activations import LeakyReLU\n",
        "import keras\n"
      ],
      "execution_count": 0,
      "outputs": []
    },
    {
      "cell_type": "code",
      "metadata": {
        "id": "OTTONFnVW0LH",
        "colab_type": "code",
        "colab": {}
      },
      "source": [
        "def make_model():    \n",
        "    model = Sequential()\n",
        "    model.add(Conv2D(32, (3,3), activation = \"relu\", input_shape = (32,32,1), padding = \"same\"))\n",
        "    model.add(BatchNormalization())\n",
        "    model.add(Conv2D(32, (3,3), activation = \"relu\"))\n",
        "    model.add(BatchNormalization())\n",
        "    model.add(Conv2D(32, (5,5), strides = (2,2) ,activation = \"relu\", padding = \"same\"))\n",
        "    model.add(BatchNormalization())\n",
        "    model.add(Dropout(0.2))\n",
        "    model.add(Conv2D(64, (3,3), activation = \"relu\", input_shape = (32,32,1), padding = \"same\"))\n",
        "    model.add(BatchNormalization())\n",
        "    model.add(Conv2D(64, (3,3), activation = \"relu\"))\n",
        "    model.add(BatchNormalization())\n",
        "    model.add(Conv2D(64, (5,5), strides = (2,2) ,activation = \"relu\", padding = \"same\"))\n",
        "    model.add(BatchNormalization())\n",
        "    model.add(Dropout(0.2)) \n",
        "    model.add(Conv2D(128, (3,3), activation = \"relu\", padding = \"same\"))\n",
        "    model.add(BatchNormalization())\n",
        "    model.add(Conv2D(128, (3,3), activation = \"relu\"))\n",
        "    model.add(BatchNormalization())\n",
        "    model.add(Conv2D(128, (5,5), strides = (2,2), activation = \"relu\", padding = \"same\"))\n",
        "    model.add(BatchNormalization())\n",
        "    model.add(Dropout(0.25))\n",
        "    model.add(MaxPooling2D(2,2))\n",
        "    model.add(Dropout(0.2))\n",
        "    model.add(Conv2D(256, (3,3), activation = \"relu\", padding = \"same\"))\n",
        "    model.add(BatchNormalization())\n",
        "    model.add(Dropout(0.2))\n",
        "    model.add(Flatten())   \n",
        "    model.add(Dense(1024, activation = \"relu\"))\n",
        "    model.add(BatchNormalization())\n",
        "    model.add(Dropout(0.2))\n",
        "    model.add(Dense(1000, activation='softmax')) \n",
        "\n",
        "    return model"
      ],
      "execution_count": 0,
      "outputs": []
    },
    {
      "cell_type": "code",
      "metadata": {
        "id": "-1Yo1VNpXRkO",
        "colab_type": "code",
        "colab": {}
      },
      "source": [
        "INIT_LR = 5e-3\n",
        "BATCH_SIZE = 64\n",
        "EPOCHS = 50\n",
        "\n",
        "model_filename = 'weights_{0:02d}.hdf5'\n",
        "\n",
        "model = make_model()\n",
        "model.summary()\n",
        "model.compile(optimizer='adam',loss='categorical_crossentropy', metrics=['accuracy'])\n",
        "def lr_scheduler(epoch):\n",
        "    return INIT_LR * 0.9 ** epoch \n",
        "  \n",
        "history = model.fit(\n",
        "    x_train, y_train,\n",
        "    batch_size=BATCH_SIZE,\n",
        "    epochs=EPOCHS,\n",
        "    validation_split = 0.01,\n",
        "    shuffle=True,\n",
        "    verbose=1,\n",
        "    initial_epoch=0    \n",
        ")\n",
        "  "
      ],
      "execution_count": 0,
      "outputs": []
    },
    {
      "cell_type": "code",
      "metadata": {
        "id": "9zyuoGE_buVf",
        "colab_type": "code",
        "colab": {}
      },
      "source": [
        "del train\n",
        "del train_1\n",
        "del train_2\n",
        "del train_3\n",
        "del train_4\n",
        "del new"
      ],
      "execution_count": 0,
      "outputs": []
    },
    {
      "cell_type": "code",
      "metadata": {
        "id": "NMVDquNEbpSn",
        "colab_type": "code",
        "colab": {}
      },
      "source": [
        "!unzip test.npy.zip  test.npy"
      ],
      "execution_count": 0,
      "outputs": []
    },
    {
      "cell_type": "code",
      "metadata": {
        "id": "kHpIjvYwX_xp",
        "colab_type": "code",
        "colab": {}
      },
      "source": [
        "test = np.load('test.npy', allow_pickle=True)\n",
        "\n",
        "for i in range(test.shape[0]):\n",
        "    test[i] = resize(test[i], (32, 32), anti_aliasing=True)\n",
        "\n",
        "\n",
        "new_test = []\n",
        "for i in test:\n",
        "  new_test.append(i)\n",
        "\n"
      ],
      "execution_count": 0,
      "outputs": []
    },
    {
      "cell_type": "code",
      "metadata": {
        "id": "qpupmavujhuH",
        "colab_type": "code",
        "colab": {}
      },
      "source": [
        "x_test = np.asarray(new_test)\n",
        "x_test = x_test.reshape(x_test.shape[0],32, 32, 1)"
      ],
      "execution_count": 0,
      "outputs": []
    },
    {
      "cell_type": "code",
      "metadata": {
        "id": "zg2mJABIX_-T",
        "colab_type": "code",
        "colab": {}
      },
      "source": [
        "prediction = model.predict(x_test)\n",
        "df = pd.DataFrame(prediction)\n",
        "df.columns = columns_names\n",
        "df1 = df\n",
        "df1 = pd.get_dummies(df1).idxmax(1)\n",
        "df2 = pd.read_csv('random_labels.csv')"
      ],
      "execution_count": 0,
      "outputs": []
    },
    {
      "cell_type": "code",
      "metadata": {
        "id": "wab658GgpnRx",
        "colab_type": "code",
        "colab": {}
      },
      "source": [
        "result = df2[['Id']]\n",
        "result['Category'] = df1\n",
        "result.to_csv('final1.csv', index=False) \n",
        "files.download('final1.csv')"
      ],
      "execution_count": 0,
      "outputs": []
    }
  ]
}